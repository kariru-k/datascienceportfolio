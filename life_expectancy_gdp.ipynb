{
  "cells": [
    {
      "cell_type": "markdown",
      "metadata": {
        "id": "view-in-github",
        "colab_type": "text"
      },
      "source": [
        "<a href=\"https://colab.research.google.com/github/kariru-k/datascienceportfolio/blob/main/life_expectancy_gdp.ipynb\" target=\"_parent\"><img src=\"https://colab.research.google.com/assets/colab-badge.svg\" alt=\"Open In Colab\"/></a>"
      ]
    },
    {
      "cell_type": "markdown",
      "source": [
        "  # **CODECADEMY DATA VISUALIZATION PORTFOLIO PROJECT**"
      ],
      "metadata": {
        "id": "ptKU0amqP5A_"
      }
    },
    {
      "cell_type": "markdown",
      "source": [
        "## Importing the Required Libraries"
      ],
      "metadata": {
        "id": "fBcarem1QZOC"
      }
    },
    {
      "cell_type": "code",
      "source": [
        "import pandas as pd\n",
        "import numpy as np\n",
        "import matplotlib.pyplot as plt\n",
        "import seaborn as sns"
      ],
      "metadata": {
        "id": "EyMXzYjNQXWl"
      },
      "execution_count": 1,
      "outputs": []
    },
    {
      "cell_type": "markdown",
      "source": [
        "## Loading the Data from the dataset"
      ],
      "metadata": {
        "id": "Iynj3BUvP3TP"
      }
    },
    {
      "cell_type": "code",
      "source": [
        "data = pd.read_csv(\"all_data.csv\")\n",
        "print(data.head())\n",
        "print(data.info())"
      ],
      "metadata": {
        "colab": {
          "base_uri": "https://localhost:8080/"
        },
        "id": "jtLW0Hu-QWb9",
        "outputId": "2c7e6ff5-1f21-41d8-e399-1eeac2ccbd52"
      },
      "execution_count": 3,
      "outputs": [
        {
          "output_type": "stream",
          "name": "stdout",
          "text": [
            "  Country  Year  Life expectancy at birth (years)           GDP\n",
            "0   Chile  2000                              77.3  7.786093e+10\n",
            "1   Chile  2001                              77.3  7.097992e+10\n",
            "2   Chile  2002                              77.8  6.973681e+10\n",
            "3   Chile  2003                              77.9  7.564346e+10\n",
            "4   Chile  2004                              78.0  9.921039e+10\n",
            "<class 'pandas.core.frame.DataFrame'>\n",
            "RangeIndex: 96 entries, 0 to 95\n",
            "Data columns (total 4 columns):\n",
            " #   Column                            Non-Null Count  Dtype  \n",
            "---  ------                            --------------  -----  \n",
            " 0   Country                           96 non-null     object \n",
            " 1   Year                              96 non-null     int64  \n",
            " 2   Life expectancy at birth (years)  96 non-null     float64\n",
            " 3   GDP                               96 non-null     float64\n",
            "dtypes: float64(2), int64(1), object(1)\n",
            "memory usage: 3.1+ KB\n",
            "None\n"
          ]
        }
      ]
    },
    {
      "cell_type": "markdown",
      "source": [
        "## Univariate Analysis"
      ],
      "metadata": {
        "id": "IcFIw-RKRUnu"
      }
    },
    {
      "cell_type": "markdown",
      "source": [
        "### GDP Analysis"
      ],
      "metadata": {
        "id": "_hM6oBobRZ-p"
      }
    },
    {
      "cell_type": "code",
      "source": [
        "sns.displot(data.GDP)\n",
        "print(data.GDP.mean())\n",
        "print(data.GDP.median())"
      ],
      "metadata": {
        "colab": {
          "base_uri": "https://localhost:8080/",
          "height": 541
        },
        "id": "S4FzIp-9RYc8",
        "outputId": "ceed060b-9386-44a1-f159-942f66df4e11"
      },
      "execution_count": 7,
      "outputs": [
        {
          "output_type": "stream",
          "name": "stdout",
          "text": [
            "3880498570768.396\n",
            "1280220000000.0\n"
          ]
        },
        {
          "output_type": "display_data",
          "data": {
            "text/plain": [
              "<Figure size 500x500 with 1 Axes>"
            ],
            "image/png": "[encoded data removed]"
          },
          "metadata": {}
        }
      ]
    },
    {
      "cell_type": "markdown",
      "source": [
        "From this analysis, we can see that the GDP distribution is heavily right skewed.This is reflected in the difference between the mean and the median where the mean is much higher due to the larger values on the tail of the distribution"
      ],
      "metadata": {
        "id": "D_2or5qNR-Q8"
      }
    },
    {
      "cell_type": "markdown",
      "source": [
        "### Life Expectancty Analysis"
      ],
      "metadata": {
        "id": "SHiplRf8TH_X"
      }
    },
    {
      "cell_type": "code",
      "source": [
        "life_expectancy = data[\"Life expectancy at birth (years)\"]\n",
        "sns.displot(life_expectancy)\n",
        "print(life_expectancy.mean())\n",
        "print(life_expectancy.median())"
      ],
      "metadata": {
        "colab": {
          "base_uri": "https://localhost:8080/",
          "height": 541
        },
        "id": "uufxW3VbTLyg",
        "outputId": "66562b5c-67e6-4072-aaa7-2ee201dca265"
      },
      "execution_count": 12,
      "outputs": [
        {
          "output_type": "stream",
          "name": "stdout",
          "text": [
            "72.78958333333334\n",
            "76.75\n"
          ]
        },
        {
          "output_type": "display_data",
          "data": {
            "text/plain": [
              "<Figure size 500x500 with 1 Axes>"
            ],
            "image/png": "[encoded data removed]"
          },
          "metadata": {}
        }
      ]
    },
    {
      "cell_type": "markdown",
      "source": [
        "From the above analysis, the life expectancy distribution is heavily screwed to the left. This can be seen in how the mean has been lowered from the median due to the outliers in the lower values of ages"
      ],
      "metadata": {
        "id": "toEgnS81T7iv"
      }
    },
    {
      "cell_type": "markdown",
      "source": [],
      "metadata": {
        "id": "MqZ0wlG6ULIW"
      }
    }
  ],
  "metadata": {
    "kernelspec": {
      "display_name": "Python 3",
      "language": "python",
      "name": "python3"
    },
    "language_info": {
      "codemirror_mode": {
        "name": "ipython",
        "version": 3
      },
      "file_extension": ".py",
      "mimetype": "text/x-python",
      "name": "python",
      "nbconvert_exporter": "python",
      "pygments_lexer": "ipython3",
      "version": "3.7.6"
    },
    "colab": {
      "provenance": [],
      "include_colab_link": true
    }
  },
  "nbformat": 4,
  "nbformat_minor": 0
}