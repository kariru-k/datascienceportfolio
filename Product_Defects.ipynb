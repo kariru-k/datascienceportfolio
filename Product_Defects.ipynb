{
  "cells": [
    {
      "cell_type": "markdown",
      "metadata": {
        "id": "view-in-github",
        "colab_type": "text"
      },
      "source": [
        "<a href=\"https://colab.research.google.com/github/kariru-k/datascienceportfolio/blob/main/Product_Defects.ipynb\" target=\"_parent\"><img src=\"https://colab.research.google.com/assets/colab-badge.svg\" alt=\"Open In Colab\"/></a>"
      ]
    },
    {
      "cell_type": "markdown",
      "id": "4b2cd154",
      "metadata": {
        "id": "4b2cd154"
      },
      "source": [
        "# Product Defects"
      ]
    },
    {
      "cell_type": "markdown",
      "id": "9fb46377",
      "metadata": {
        "id": "9fb46377"
      },
      "source": [
        "You are in charge of monitoring the number of products from a specific factory. You've been told that the number of defects on a given day follows the Poisson distribution with the rate parameter (lambda) equal to 7. You're new here, so you want to get a feel for what it means to follow the Poisson(7) distribution. You remember that the Poisson distribution is special because the rate parameter represents the expected value of the distribution, so in this case, the expected value of the Poisson(7) distribution is 7 defects per day.\n",
        "\n",
        "You will investigate certain attributes of the Poisson(7) distribution to get an intuition for how many defective objects you should expect to see in a given amount of time. You will also practice and apply what you know about the Poisson distribution on a practice data set that you will simulate yourself."
      ]
    },
    {
      "cell_type": "markdown",
      "id": "24b7687a",
      "metadata": {
        "id": "24b7687a"
      },
      "source": [
        "## Distribution in Theory"
      ]
    },
    {
      "cell_type": "markdown",
      "id": "6507ea83",
      "metadata": {
        "id": "6507ea83"
      },
      "source": [
        "1. Create a variable called `lam` that represents the rate parameter of our distribution."
      ]
    },
    {
      "cell_type": "code",
      "execution_count": 1,
      "id": "5004fed3",
      "metadata": {
        "id": "5004fed3"
      },
      "outputs": [],
      "source": [
        "import scipy.stats as stats\n",
        "import numpy as np\n",
        "\n",
        "## Task 1:\n",
        "lam = 7"
      ]
    },
    {
      "cell_type": "markdown",
      "id": "74c409d6",
      "metadata": {
        "id": "74c409d6"
      },
      "source": [
        "2. You know that the rate parameter of a Poisson distribution is equal to the expected value. So in our factory, the rate parameter would equal the expected number of defects on a given day. You are curious about how often we might observe the exact expected number of defects.\n",
        "\n",
        "   Calculate and print the probability of observing exactly `lam` defects on a given day."
      ]
    },
    {
      "cell_type": "code",
      "execution_count": 2,
      "id": "9460b5b8",
      "metadata": {
        "colab": {
          "base_uri": "https://localhost:8080/"
        },
        "id": "9460b5b8",
        "outputId": "91229f74-1b21-48ea-a93a-04c064825516"
      },
      "outputs": [
        {
          "output_type": "stream",
          "name": "stdout",
          "text": [
            "0.14900277967433773\n"
          ]
        }
      ],
      "source": [
        "## Task 2:\n",
        "print(stats.poisson.pmf(7,7))"
      ]
    },
    {
      "cell_type": "markdown",
      "id": "2f2e2d1f",
      "metadata": {
        "id": "2f2e2d1f"
      },
      "source": [
        "3. Our boss said that having 4 or fewer defects on a given day is an exceptionally good day. You are curious about how often that might happen.\n",
        "\n",
        "   Calculate and print the probability of having one of those days."
      ]
    },
    {
      "cell_type": "code",
      "execution_count": 3,
      "id": "f4ebb772",
      "metadata": {
        "colab": {
          "base_uri": "https://localhost:8080/"
        },
        "id": "f4ebb772",
        "outputId": "b186ec9d-5a5e-4054-9dc0-1e233b34d86b"
      },
      "outputs": [
        {
          "output_type": "stream",
          "name": "stdout",
          "text": [
            "0.17299160788207146\n"
          ]
        }
      ],
      "source": [
        "## Task 3:\n",
        "print(stats.poisson.cdf(4,7))"
      ]
    },
    {
      "cell_type": "markdown",
      "id": "53d28c8f",
      "metadata": {
        "id": "53d28c8f"
      },
      "source": [
        "4. On the other hand, our boss said that having more than 9 defects on a given day is considered a bad day.\n",
        "\n",
        "   Calculate and print the probability of having one of these bad days."
      ]
    },
    {
      "cell_type": "code",
      "execution_count": 4,
      "id": "a2e52583",
      "metadata": {
        "colab": {
          "base_uri": "https://localhost:8080/"
        },
        "id": "a2e52583",
        "outputId": "65dd5211-36ec-48b6-cf74-abe6af71e337"
      },
      "outputs": [
        {
          "output_type": "stream",
          "name": "stdout",
          "text": [
            "0.16950406276132668\n"
          ]
        }
      ],
      "source": [
        "## Task 4:\n",
        "print(1 - stats.poisson.cdf(9, 7))"
      ]
    },
    {
      "cell_type": "markdown",
      "id": "51b70b96",
      "metadata": {
        "id": "51b70b96"
      },
      "source": [
        "## Distribution in Practice"
      ]
    },
    {
      "cell_type": "markdown",
      "id": "64c0a33e",
      "metadata": {
        "id": "64c0a33e"
      },
      "source": [
        "5. You've familiarized yourself a little bit about how the Poisson distribution works in theory by calculating different probabilities. But let's look at what this might look like in practice.\n",
        "\n",
        "   Create a variable called `year_defects` that has 365 random values from the Poisson distribution."
      ]
    },
    {
      "cell_type": "code",
      "execution_count": 5,
      "id": "ca2113e6",
      "metadata": {
        "id": "ca2113e6"
      },
      "outputs": [],
      "source": [
        "## Task 5:\n",
        "year_defects = stats.poisson.rvs(7, size = 365)"
      ]
    },
    {
      "cell_type": "markdown",
      "id": "d7f3dce8",
      "metadata": {
        "id": "d7f3dce8"
      },
      "source": [
        "6. Let's take a look at our new dataset. Print the first 20 values in this dataset."
      ]
    },
    {
      "cell_type": "code",
      "execution_count": 6,
      "id": "b1d5f0c1",
      "metadata": {
        "colab": {
          "base_uri": "https://localhost:8080/"
        },
        "id": "b1d5f0c1",
        "outputId": "849d426a-9cfb-486b-fb5e-a6becacd9bf5"
      },
      "outputs": [
        {
          "output_type": "stream",
          "name": "stdout",
          "text": [
            "[ 5 11  2 10  5 12  5 10  8  5  5  4  5  6  8  9  7  8  1  9]\n"
          ]
        }
      ],
      "source": [
        "## Task 6:\n",
        "print(year_defects[:20])"
      ]
    },
    {
      "cell_type": "markdown",
      "id": "eedc358b",
      "metadata": {
        "id": "eedc358b"
      },
      "source": [
        "7. If we expect 7 defects on a given day, what is the total number of defects we would expect over 365 days?\n",
        "\n",
        "   Calculate and print this value to the output terminal."
      ]
    },
    {
      "cell_type": "code",
      "execution_count": 7,
      "id": "75d2f0e0",
      "metadata": {
        "colab": {
          "base_uri": "https://localhost:8080/"
        },
        "id": "75d2f0e0",
        "outputId": "de2057f6-e158-4698-dd64-a06c528f7438"
      },
      "outputs": [
        {
          "output_type": "stream",
          "name": "stdout",
          "text": [
            "2555\n"
          ]
        }
      ],
      "source": [
        "## Task 7:\n",
        "print(lam * 365)"
      ]
    },
    {
      "cell_type": "markdown",
      "id": "ad96cdf6",
      "metadata": {
        "id": "ad96cdf6"
      },
      "source": [
        "8. Calculate and print the total sum of the dataset `year_defects`. How does this compare to the total number of defects we expected over 365 days?"
      ]
    },
    {
      "cell_type": "code",
      "execution_count": 9,
      "id": "da304786",
      "metadata": {
        "colab": {
          "base_uri": "https://localhost:8080/"
        },
        "id": "da304786",
        "outputId": "1acdf2e2-86d5-4512-fcc3-8a6e71b04c08"
      },
      "outputs": [
        {
          "output_type": "stream",
          "name": "stdout",
          "text": [
            "2603\n"
          ]
        }
      ],
      "source": [
        "## Task 8:\n",
        "print(np.sum(year_defects))"
      ]
    },
    {
      "cell_type": "markdown",
      "id": "aefa9e09",
      "metadata": {
        "id": "aefa9e09"
      },
      "source": [
        "9. Calculate and print the average number of defects per day from our simulated dataset.\n",
        "\n",
        "   How does this compare to the expected average number of defects each day that we know from the given rate parameter of the Poisson distribution?"
      ]
    },
    {
      "cell_type": "code",
      "execution_count": 10,
      "id": "febc26d4",
      "metadata": {
        "colab": {
          "base_uri": "https://localhost:8080/"
        },
        "id": "febc26d4",
        "outputId": "cbb1ca07-43de-4a73-b1cc-cf9fa5a2e3ab"
      },
      "outputs": [
        {
          "output_type": "stream",
          "name": "stdout",
          "text": [
            "7.131506849315069\n"
          ]
        }
      ],
      "source": [
        "## Task 9:\n",
        "print(np.sum(year_defects) / 365)"
      ]
    },
    {
      "cell_type": "markdown",
      "id": "31308a48",
      "metadata": {
        "id": "31308a48"
      },
      "source": [
        "10. You're worried about what the highest amount of defects in a single day might be because that would be a hectic day.\n",
        "\n",
        "    Print the maximum value of `year_defects`."
      ]
    },
    {
      "cell_type": "code",
      "execution_count": 11,
      "id": "18feb435",
      "metadata": {
        "colab": {
          "base_uri": "https://localhost:8080/"
        },
        "id": "18feb435",
        "outputId": "66b93ec9-cc11-4f27-8917-863f2c933b6d"
      },
      "outputs": [
        {
          "output_type": "stream",
          "name": "stdout",
          "text": [
            "16\n"
          ]
        }
      ],
      "source": [
        "## Task 10:\n",
        "print(np.max(year_defects))"
      ]
    },
    {
      "cell_type": "markdown",
      "id": "64b6a84a",
      "metadata": {
        "id": "64b6a84a"
      },
      "source": [
        "11. Wow, it would probably be super busy if there were that many defects on a single day. Hopefully, it is a rare event!\n",
        "\n",
        "    Calculate and print the probability of observing that maximum value or more from the Poisson(7) distribution."
      ]
    },
    {
      "cell_type": "code",
      "execution_count": 12,
      "id": "a63b1329",
      "metadata": {
        "colab": {
          "base_uri": "https://localhost:8080/"
        },
        "id": "a63b1329",
        "outputId": "bdd98fc5-dd2d-4d1b-e448-a3ed5d85b89a"
      },
      "outputs": [
        {
          "output_type": "stream",
          "name": "stdout",
          "text": [
            "0.0024065803473980463\n"
          ]
        }
      ],
      "source": [
        "## Task 11:\n",
        "print(1 - stats.poisson.cdf(15, 7))"
      ]
    },
    {
      "cell_type": "markdown",
      "id": "b45f0bab",
      "metadata": {
        "id": "b45f0bab"
      },
      "source": [
        "## Extra"
      ]
    },
    {
      "cell_type": "markdown",
      "id": "5060f0ec",
      "metadata": {
        "id": "5060f0ec"
      },
      "source": [
        "12. Congratulations! At this point, you have now explored the Poisson distribution and even worked with some simulated data. We have a couple of extra tasks if you would like an extra challenge. Feel free to try them out or move onto the next topic!\n",
        "\n",
        "    Let's say we want to know how many defects in a given day would put us in the 90th percentile of the Poisson(7) distribution. One way we could calculate this is by using the following method:\n",
        "    \n",
        "    ```py\n",
        "    stats.poisson.ppf(percentile, lambda)\n",
        "    ```\n",
        "    \n",
        "    `percentile` is equal to the desired percentile (a decimal between 0 and 1), and `lambda` is the lambda parameter of the Poisson distribution. This function is essentially the inverse of the CDF.\n",
        "    \n",
        "    Use this method to calculate and print the number of defects that would put us in the 90th percentile for a given day. In other words, on 90% of days, we will observe fewer defects than this number."
      ]
    },
    {
      "cell_type": "code",
      "execution_count": 14,
      "id": "e6156c3e",
      "metadata": {
        "colab": {
          "base_uri": "https://localhost:8080/"
        },
        "id": "e6156c3e",
        "outputId": "6cc81675-a7a4-4dcf-e34d-272ccc43257b"
      },
      "outputs": [
        {
          "output_type": "stream",
          "name": "stdout",
          "text": [
            "10.0\n"
          ]
        }
      ],
      "source": [
        "## Task 12:\n",
        "print(stats.poisson.ppf(0.9, 7))"
      ]
    },
    {
      "cell_type": "markdown",
      "id": "0d86d9d0",
      "metadata": {
        "id": "0d86d9d0"
      },
      "source": [
        "13. Now let's see what proportion of our simulated dataset `year_defects` is greater than or equal to the number we calculated in the previous step.\n",
        "\n",
        "    By definition of a percentile, we would expect 1 - .90, or about 10% of days to be in this range.\n",
        "    \n",
        "    To calculate this:\n",
        "    \n",
        "     1) Count the number of values in the dataset that are greater than or equal to the 90th percentile value.\n",
        "     \n",
        "     2) Divide this number by the length of the dataset."
      ]
    },
    {
      "cell_type": "code",
      "execution_count": 15,
      "id": "c80c6e6a",
      "metadata": {
        "colab": {
          "base_uri": "https://localhost:8080/"
        },
        "id": "c80c6e6a",
        "outputId": "717cd392-6f7a-4afd-f66e-eecf1f32d0b2"
      },
      "outputs": [
        {
          "output_type": "stream",
          "name": "stdout",
          "text": [
            "0.20821917808219179\n"
          ]
        }
      ],
      "source": [
        "## Task 13:\n",
        "print(sum(year_defects >= 10)/ len(year_defects))"
      ]
    },
    {
      "cell_type": "code",
      "execution_count": null,
      "id": "9961924d",
      "metadata": {
        "id": "9961924d"
      },
      "outputs": [],
      "source": []
    }
  ],
  "metadata": {
    "kernelspec": {
      "display_name": "Python 3 (ipykernel)",
      "language": "python",
      "name": "python3"
    },
    "language_info": {
      "codemirror_mode": {
        "name": "ipython",
        "version": 3
      },
      "file_extension": ".py",
      "mimetype": "text/x-python",
      "name": "python",
      "nbconvert_exporter": "python",
      "pygments_lexer": "ipython3",
      "version": "3.7.11"
    },
    "colab": {
      "provenance": [],
      "include_colab_link": true
    }
  },
  "nbformat": 4,
  "nbformat_minor": 5
}