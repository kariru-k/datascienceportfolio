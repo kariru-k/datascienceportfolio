{
  "cells": [
    {
      "cell_type": "markdown",
      "metadata": {
        "id": "view-in-github",
        "colab_type": "text"
      },
      "source": [
        "<a href=\"https://colab.research.google.com/github/kariru-k/datascienceportfolio/blob/main/biodiversity.ipynb\" target=\"_parent\"><img src=\"https://colab.research.google.com/assets/colab-badge.svg\" alt=\"Open In Colab\"/></a>"
      ]
    },
    {
      "cell_type": "markdown",
      "metadata": {
        "id": "WXtvcVU_w0Cu"
      },
      "source": [
        "# Introduction\n",
        "\n",
        "This goal of this project is to analyze biodiversity data from the National Parks Service, particularly around various species observed in different national park locations.\n",
        "\n",
        "This project will scope, analyze, prepare, plot data, and seek to explain the findings from the analysis.\n",
        "\n",
        "Here are a few questions that this project has sought to answer:\n",
        "\n",
        "- What is the distribution of conservation status for species?\n",
        "- Are certain types of species more likely to be endangered?\n",
        "- Are the differences between species and their conservation status significant?\n",
        "- Which animal is most prevalent and what is their distribution amongst parks?\n",
        "\n",
        "**Data sources:**\n",
        "\n",
        "Both `Observations.csv` and `Species_info.csv` was provided by [Codecademy.com](https://www.codecademy.com)"
      ]
    },
    {
      "cell_type": "markdown",
      "source": [
        "### Data\n",
        "\n",
        "This project has two data sets that came with the package. The first `csv` file has information about each species and another has observations of species with park locations. This data will be used to analyze the goals of the project. "
      ],
      "metadata": {
        "id": "47Kw7JWRyPNJ"
      }
    },
    {
      "cell_type": "markdown",
      "source": [
        "##  Import Relevant Libraries"
      ],
      "metadata": {
        "id": "Sbv8ZHt8v-0h"
      }
    },
    {
      "cell_type": "code",
      "execution_count": 1,
      "metadata": {
        "id": "0htPKwanvhz3"
      },
      "outputs": [],
      "source": [
        "import pandas as pd\n",
        "import numpy as np\n",
        "import matplotlib.pyplot as plt\n",
        "import seaborn as sns"
      ]
    },
    {
      "cell_type": "markdown",
      "source": [
        "## Load the Dataset"
      ],
      "metadata": {
        "id": "c7bGSM5ZwDtX"
      }
    },
    {
      "cell_type": "markdown",
      "source": [
        "In order to observe the data first, we have to load the data into DataFrames using the pandas module"
      ],
      "metadata": {
        "id": "q1iZSyQeyXVr"
      }
    },
    {
      "cell_type": "markdown",
      "source": [
        "### Observations"
      ],
      "metadata": {
        "id": "78uY_fawye8O"
      }
    },
    {
      "cell_type": "code",
      "source": [
        "observations = pd.read_csv(\"observations.csv\")\n",
        "observations.columns"
      ],
      "metadata": {
        "colab": {
          "base_uri": "https://localhost:8080/"
        },
        "id": "7vNTTqO8wGCK",
        "outputId": "6600a0a5-441a-439c-c517-932f03b5a326"
      },
      "execution_count": 3,
      "outputs": [
        {
          "output_type": "execute_result",
          "data": {
            "text/plain": [
              "Index(['scientific_name', 'park_name', 'observations'], dtype='object')"
            ]
          },
          "metadata": {},
          "execution_count": 3
        }
      ]
    },
    {
      "cell_type": "code",
      "source": [
        "observations.head()"
      ],
      "metadata": {
        "colab": {
          "base_uri": "https://localhost:8080/",
          "height": 215
        },
        "id": "uYeuCTlYy9Lr",
        "outputId": "e8f3f629-e488-40ae-eb31-35e0d2e61664"
      },
      "execution_count": 4,
      "outputs": [
        {
          "output_type": "execute_result",
          "data": {
            "text/plain": [
              "            scientific_name                            park_name  observations\n",
              "0        Vicia benghalensis  Great Smoky Mountains National Park            68\n",
              "1            Neovison vison  Great Smoky Mountains National Park            77\n",
              "2         Prunus subcordata               Yosemite National Park           138\n",
              "3      Abutilon theophrasti                  Bryce National Park            84\n",
              "4  Githopsis specularioides  Great Smoky Mountains National Park            85"
            ],
            "text/html": [
              "\n",
              "  <div id=\"df-2746e3e4-df49-4d9e-bd7e-a3f3ae1ff78f\">\n",
              "    <div class=\"colab-df-container\">\n",
              "      <div>\n",
              "<style scoped>\n",
              "    .dataframe tbody tr th:only-of-type {\n",
              "        vertical-align: middle;\n",
              "    }\n",
              "\n",
              "    .dataframe tbody tr th {\n",
              "        vertical-align: top;\n",
              "    }\n",
              "\n",
              "    .dataframe thead th {\n",
              "        text-align: right;\n",
              "    }\n",
              "</style>\n",
              "<table border=\"1\" class=\"dataframe\">\n",
              "  <thead>\n",
              "    <tr style=\"text-align: right;\">\n",
              "      <th></th>\n",
              "      <th>scientific_name</th>\n",
              "      <th>park_name</th>\n",
              "      <th>observations</th>\n",
              "    </tr>\n",
              "  </thead>\n",
              "  <tbody>\n",
              "    <tr>\n",
              "      <th>0</th>\n",
              "      <td>Vicia benghalensis</td>\n",
              "      <td>Great Smoky Mountains National Park</td>\n",
              "      <td>68</td>\n",
              "    </tr>\n",
              "    <tr>\n",
              "      <th>1</th>\n",
              "      <td>Neovison vison</td>\n",
              "      <td>Great Smoky Mountains National Park</td>\n",
              "      <td>77</td>\n",
              "    </tr>\n",
              "    <tr>\n",
              "      <th>2</th>\n",
              "      <td>Prunus subcordata</td>\n",
              "      <td>Yosemite National Park</td>\n",
              "      <td>138</td>\n",
              "    </tr>\n",
              "    <tr>\n",
              "      <th>3</th>\n",
              "      <td>Abutilon theophrasti</td>\n",
              "      <td>Bryce National Park</td>\n",
              "      <td>84</td>\n",
              "    </tr>\n",
              "    <tr>\n",
              "      <th>4</th>\n",
              "      <td>Githopsis specularioides</td>\n",
              "      <td>Great Smoky Mountains National Park</td>\n",
              "      <td>85</td>\n",
              "    </tr>\n",
              "  </tbody>\n",
              "</table>\n",
              "</div>\n",
              "      <button class=\"colab-df-convert\" onclick=\"convertToInteractive('df-2746e3e4-df49-4d9e-bd7e-a3f3ae1ff78f')\"\n",
              "              title=\"Convert this dataframe to an interactive table.\"\n",
              "              style=\"display:none;\">\n",
              "        \n",
              "  <svg xmlns=\"http://www.w3.org/2000/svg\" height=\"24px\"viewBox=\"0 0 24 24\"\n",
              "       width=\"24px\">\n",
              "    <path d=\"M0 0h24v24H0V0z\" fill=\"none\"/>\n",
              "    <path d=\"M18.56 5.44l.94 2.06.94-2.06 2.06-.94-2.06-.94-.94-2.06-.94 2.06-2.06.94zm-11 1L8.5 8.5l.94-2.06 2.06-.94-2.06-.94L8.5 2.5l-.94 2.06-2.06.94zm10 10l.94 2.06.94-2.06 2.06-.94-2.06-.94-.94-2.06-.94 2.06-2.06.94z\"/><path d=\"M17.41 7.96l-1.37-1.37c-.4-.4-.92-.59-1.43-.59-.52 0-1.04.2-1.43.59L10.3 9.45l-7.72 7.72c-.78.78-.78 2.05 0 2.83L4 21.41c.39.39.9.59 1.41.59.51 0 1.02-.2 1.41-.59l7.78-7.78 2.81-2.81c.8-.78.8-2.07 0-2.86zM5.41 20L4 18.59l7.72-7.72 1.47 1.35L5.41 20z\"/>\n",
              "  </svg>\n",
              "      </button>\n",
              "      \n",
              "  <style>\n",
              "    .colab-df-container {\n",
              "      display:flex;\n",
              "      flex-wrap:wrap;\n",
              "      gap: 12px;\n",
              "    }\n",
              "\n",
              "    .colab-df-convert {\n",
              "      background-color: #E8F0FE;\n",
              "      border: none;\n",
              "      border-radius: 50%;\n",
              "      cursor: pointer;\n",
              "      display: none;\n",
              "      fill: #1967D2;\n",
              "      height: 32px;\n",
              "      padding: 0 0 0 0;\n",
              "      width: 32px;\n",
              "    }\n",
              "\n",
              "    .colab-df-convert:hover {\n",
              "      background-color: #E2EBFA;\n",
              "      box-shadow: 0px 1px 2px rgba(60, 64, 67, 0.3), 0px 1px 3px 1px rgba(60, 64, 67, 0.15);\n",
              "      fill: #174EA6;\n",
              "    }\n",
              "\n",
              "    [theme=dark] .colab-df-convert {\n",
              "      background-color: #3B4455;\n",
              "      fill: #D2E3FC;\n",
              "    }\n",
              "\n",
              "    [theme=dark] .colab-df-convert:hover {\n",
              "      background-color: #434B5C;\n",
              "      box-shadow: 0px 1px 3px 1px rgba(0, 0, 0, 0.15);\n",
              "      filter: drop-shadow(0px 1px 2px rgba(0, 0, 0, 0.3));\n",
              "      fill: #FFFFFF;\n",
              "    }\n",
              "  </style>\n",
              "\n",
              "      <script>\n",
              "        const buttonEl =\n",
              "          document.querySelector('#df-2746e3e4-df49-4d9e-bd7e-a3f3ae1ff78f button.colab-df-convert');\n",
              "        buttonEl.style.display =\n",
              "          google.colab.kernel.accessAllowed ? 'block' : 'none';\n",
              "\n",
              "        async function convertToInteractive(key) {\n",
              "          const element = document.querySelector('#df-2746e3e4-df49-4d9e-bd7e-a3f3ae1ff78f');\n",
              "          const dataTable =\n",
              "            await google.colab.kernel.invokeFunction('convertToInteractive',\n",
              "                                                     [key], {});\n",
              "          if (!dataTable) return;\n",
              "\n",
              "          const docLinkHtml = 'Like what you see? Visit the ' +\n",
              "            '<a target=\"_blank\" href=https://colab.research.google.com/notebooks/data_table.ipynb>data table notebook</a>'\n",
              "            + ' to learn more about interactive tables.';\n",
              "          element.innerHTML = '';\n",
              "          dataTable['output_type'] = 'display_data';\n",
              "          await google.colab.output.renderOutput(dataTable, element);\n",
              "          const docLink = document.createElement('div');\n",
              "          docLink.innerHTML = docLinkHtml;\n",
              "          element.appendChild(docLink);\n",
              "        }\n",
              "      </script>\n",
              "    </div>\n",
              "  </div>\n",
              "  "
            ]
          },
          "metadata": {},
          "execution_count": 4
        }
      ]
    },
    {
      "cell_type": "markdown",
      "source": [
        "Here we see that the observations dataset has three columns\n",
        "\n",
        "\n",
        "*   **scientific_name** - The scientific name of each species\n",
        "*   **park_name** - The name of the national park\n",
        "*   **observations** - The number of observations for the species in the park the past seven days\n",
        "\n",
        "\n"
      ],
      "metadata": {
        "id": "M8gCiflTyvET"
      }
    },
    {
      "cell_type": "markdown",
      "source": [
        "### Species_info"
      ],
      "metadata": {
        "id": "BHw0U2z4znW3"
      }
    },
    {
      "cell_type": "code",
      "source": [
        "species_info = pd.read_csv(\"species_info.csv\")\n",
        "species_info.columns"
      ],
      "metadata": {
        "colab": {
          "base_uri": "https://localhost:8080/"
        },
        "id": "BE9aJCkjzkO9",
        "outputId": "fb73bb2d-24d5-4694-e90a-33649602b4f4"
      },
      "execution_count": 5,
      "outputs": [
        {
          "output_type": "execute_result",
          "data": {
            "text/plain": [
              "Index(['category', 'scientific_name', 'common_names', 'conservation_status'], dtype='object')"
            ]
          },
          "metadata": {},
          "execution_count": 5
        }
      ]
    },
    {
      "cell_type": "code",
      "source": [
        "species_info.head()"
      ],
      "metadata": {
        "colab": {
          "base_uri": "https://localhost:8080/",
          "height": 215
        },
        "id": "aaYxfoUnz2DK",
        "outputId": "a3dcaf2e-ba34-418c-ac7b-b84770672ddf"
      },
      "execution_count": 6,
      "outputs": [
        {
          "output_type": "execute_result",
          "data": {
            "text/plain": [
              "  category                scientific_name  \\\n",
              "0   Mammal  Clethrionomys gapperi gapperi   \n",
              "1   Mammal                      Bos bison   \n",
              "2   Mammal                     Bos taurus   \n",
              "3   Mammal                     Ovis aries   \n",
              "4   Mammal                 Cervus elaphus   \n",
              "\n",
              "                                        common_names conservation_status  \n",
              "0                           Gapper's Red-Backed Vole                 NaN  \n",
              "1                              American Bison, Bison                 NaN  \n",
              "2  Aurochs, Aurochs, Domestic Cattle (Feral), Dom...                 NaN  \n",
              "3  Domestic Sheep, Mouflon, Red Sheep, Sheep (Feral)                 NaN  \n",
              "4                                      Wapiti Or Elk                 NaN  "
            ],
            "text/html": [
              "\n",
              "  <div id=\"df-5bf2b214-3ebb-40f7-a6b9-ca2116b35179\">\n",
              "    <div class=\"colab-df-container\">\n",
              "      <div>\n",
              "<style scoped>\n",
              "    .dataframe tbody tr th:only-of-type {\n",
              "        vertical-align: middle;\n",
              "    }\n",
              "\n",
              "    .dataframe tbody tr th {\n",
              "        vertical-align: top;\n",
              "    }\n",
              "\n",
              "    .dataframe thead th {\n",
              "        text-align: right;\n",
              "    }\n",
              "</style>\n",
              "<table border=\"1\" class=\"dataframe\">\n",
              "  <thead>\n",
              "    <tr style=\"text-align: right;\">\n",
              "      <th></th>\n",
              "      <th>category</th>\n",
              "      <th>scientific_name</th>\n",
              "      <th>common_names</th>\n",
              "      <th>conservation_status</th>\n",
              "    </tr>\n",
              "  </thead>\n",
              "  <tbody>\n",
              "    <tr>\n",
              "      <th>0</th>\n",
              "      <td>Mammal</td>\n",
              "      <td>Clethrionomys gapperi gapperi</td>\n",
              "      <td>Gapper's Red-Backed Vole</td>\n",
              "      <td>NaN</td>\n",
              "    </tr>\n",
              "    <tr>\n",
              "      <th>1</th>\n",
              "      <td>Mammal</td>\n",
              "      <td>Bos bison</td>\n",
              "      <td>American Bison, Bison</td>\n",
              "      <td>NaN</td>\n",
              "    </tr>\n",
              "    <tr>\n",
              "      <th>2</th>\n",
              "      <td>Mammal</td>\n",
              "      <td>Bos taurus</td>\n",
              "      <td>Aurochs, Aurochs, Domestic Cattle (Feral), Dom...</td>\n",
              "      <td>NaN</td>\n",
              "    </tr>\n",
              "    <tr>\n",
              "      <th>3</th>\n",
              "      <td>Mammal</td>\n",
              "      <td>Ovis aries</td>\n",
              "      <td>Domestic Sheep, Mouflon, Red Sheep, Sheep (Feral)</td>\n",
              "      <td>NaN</td>\n",
              "    </tr>\n",
              "    <tr>\n",
              "      <th>4</th>\n",
              "      <td>Mammal</td>\n",
              "      <td>Cervus elaphus</td>\n",
              "      <td>Wapiti Or Elk</td>\n",
              "      <td>NaN</td>\n",
              "    </tr>\n",
              "  </tbody>\n",
              "</table>\n",
              "</div>\n",
              "      <button class=\"colab-df-convert\" onclick=\"convertToInteractive('df-5bf2b214-3ebb-40f7-a6b9-ca2116b35179')\"\n",
              "              title=\"Convert this dataframe to an interactive table.\"\n",
              "              style=\"display:none;\">\n",
              "        \n",
              "  <svg xmlns=\"http://www.w3.org/2000/svg\" height=\"24px\"viewBox=\"0 0 24 24\"\n",
              "       width=\"24px\">\n",
              "    <path d=\"M0 0h24v24H0V0z\" fill=\"none\"/>\n",
              "    <path d=\"M18.56 5.44l.94 2.06.94-2.06 2.06-.94-2.06-.94-.94-2.06-.94 2.06-2.06.94zm-11 1L8.5 8.5l.94-2.06 2.06-.94-2.06-.94L8.5 2.5l-.94 2.06-2.06.94zm10 10l.94 2.06.94-2.06 2.06-.94-2.06-.94-.94-2.06-.94 2.06-2.06.94z\"/><path d=\"M17.41 7.96l-1.37-1.37c-.4-.4-.92-.59-1.43-.59-.52 0-1.04.2-1.43.59L10.3 9.45l-7.72 7.72c-.78.78-.78 2.05 0 2.83L4 21.41c.39.39.9.59 1.41.59.51 0 1.02-.2 1.41-.59l7.78-7.78 2.81-2.81c.8-.78.8-2.07 0-2.86zM5.41 20L4 18.59l7.72-7.72 1.47 1.35L5.41 20z\"/>\n",
              "  </svg>\n",
              "      </button>\n",
              "      \n",
              "  <style>\n",
              "    .colab-df-container {\n",
              "      display:flex;\n",
              "      flex-wrap:wrap;\n",
              "      gap: 12px;\n",
              "    }\n",
              "\n",
              "    .colab-df-convert {\n",
              "      background-color: #E8F0FE;\n",
              "      border: none;\n",
              "      border-radius: 50%;\n",
              "      cursor: pointer;\n",
              "      display: none;\n",
              "      fill: #1967D2;\n",
              "      height: 32px;\n",
              "      padding: 0 0 0 0;\n",
              "      width: 32px;\n",
              "    }\n",
              "\n",
              "    .colab-df-convert:hover {\n",
              "      background-color: #E2EBFA;\n",
              "      box-shadow: 0px 1px 2px rgba(60, 64, 67, 0.3), 0px 1px 3px 1px rgba(60, 64, 67, 0.15);\n",
              "      fill: #174EA6;\n",
              "    }\n",
              "\n",
              "    [theme=dark] .colab-df-convert {\n",
              "      background-color: #3B4455;\n",
              "      fill: #D2E3FC;\n",
              "    }\n",
              "\n",
              "    [theme=dark] .colab-df-convert:hover {\n",
              "      background-color: #434B5C;\n",
              "      box-shadow: 0px 1px 3px 1px rgba(0, 0, 0, 0.15);\n",
              "      filter: drop-shadow(0px 1px 2px rgba(0, 0, 0, 0.3));\n",
              "      fill: #FFFFFF;\n",
              "    }\n",
              "  </style>\n",
              "\n",
              "      <script>\n",
              "        const buttonEl =\n",
              "          document.querySelector('#df-5bf2b214-3ebb-40f7-a6b9-ca2116b35179 button.colab-df-convert');\n",
              "        buttonEl.style.display =\n",
              "          google.colab.kernel.accessAllowed ? 'block' : 'none';\n",
              "\n",
              "        async function convertToInteractive(key) {\n",
              "          const element = document.querySelector('#df-5bf2b214-3ebb-40f7-a6b9-ca2116b35179');\n",
              "          const dataTable =\n",
              "            await google.colab.kernel.invokeFunction('convertToInteractive',\n",
              "                                                     [key], {});\n",
              "          if (!dataTable) return;\n",
              "\n",
              "          const docLinkHtml = 'Like what you see? Visit the ' +\n",
              "            '<a target=\"_blank\" href=https://colab.research.google.com/notebooks/data_table.ipynb>data table notebook</a>'\n",
              "            + ' to learn more about interactive tables.';\n",
              "          element.innerHTML = '';\n",
              "          dataTable['output_type'] = 'display_data';\n",
              "          await google.colab.output.renderOutput(dataTable, element);\n",
              "          const docLink = document.createElement('div');\n",
              "          docLink.innerHTML = docLinkHtml;\n",
              "          element.appendChild(docLink);\n",
              "        }\n",
              "      </script>\n",
              "    </div>\n",
              "  </div>\n",
              "  "
            ]
          },
          "metadata": {},
          "execution_count": 6
        }
      ]
    },
    {
      "cell_type": "markdown",
      "source": [
        "We see that the species_info dataset has 4 columns\n",
        "\n",
        "\n",
        "*   category - The category of species\n",
        "*   scientific_name - The scientific name of the species\n",
        "*   common_names - The common names of the species\n",
        "*   conservation_status - The conservation status of the species\n",
        "\n"
      ],
      "metadata": {
        "id": "TyJENkVA0ANW"
      }
    },
    {
      "cell_type": "markdown",
      "source": [
        "## Data Characteristics"
      ],
      "metadata": {
        "id": "37CNFLgE0e_Q"
      }
    },
    {
      "cell_type": "code",
      "source": [
        "print(f\"Observation dataset shape: {observations.shape}\")\n",
        "print(f\"Species dataset shape: {species_info.shape}\")"
      ],
      "metadata": {
        "colab": {
          "base_uri": "https://localhost:8080/"
        },
        "id": "aH1dGpF60joX",
        "outputId": "f18ee8c6-15b0-427a-ccd9-d8682a5b8d7a"
      },
      "execution_count": 8,
      "outputs": [
        {
          "output_type": "stream",
          "name": "stdout",
          "text": [
            "Observation dataset shape: (23296, 3)\n",
            "Species dataset shape: (5824, 4)\n"
          ]
        }
      ]
    },
    {
      "cell_type": "markdown",
      "source": [
        "Here we can see that the `Observation` dataset has 23296 rows and 3 columns while the `Species` dataset has 5824 rows and 4 columns"
      ],
      "metadata": {
        "id": "1LMw-YbM1JC-"
      }
    },
    {
      "cell_type": "markdown",
      "source": [
        "# Exploratory Data Analysis"
      ],
      "metadata": {
        "id": "ilv1ltQT1faI"
      }
    },
    {
      "cell_type": "markdown",
      "source": [
        "## Univariate Data Analysis"
      ],
      "metadata": {
        "id": "T8r2Lcj_1mJl"
      }
    },
    {
      "cell_type": "markdown",
      "source": [
        "There will first be a check on the `species_info` dataset in order to comprehend the contents properly"
      ],
      "metadata": {
        "id": "iOwS65iS11bK"
      }
    },
    {
      "cell_type": "markdown",
      "source": [
        "### `species_info.species`"
      ],
      "metadata": {
        "id": "uK7ejyZU2lpm"
      }
    },
    {
      "cell_type": "markdown",
      "source": [
        "There will be a check to find out the number of distinct species in the national parks\n"
      ],
      "metadata": {
        "id": "5SlPK2CL2oPm"
      }
    },
    {
      "cell_type": "code",
      "source": [
        "print(f\"Number of unique species: {species_info.scientific_name.nunique()}\")"
      ],
      "metadata": {
        "colab": {
          "base_uri": "https://localhost:8080/"
        },
        "id": "Ol8RMU8k3H99",
        "outputId": "d0b9701b-68c2-4b2b-ddf1-a5c5d0544d03"
      },
      "execution_count": 13,
      "outputs": [
        {
          "output_type": "stream",
          "name": "stdout",
          "text": [
            "Number of unique species: 5541\n"
          ]
        }
      ]
    },
    {
      "cell_type": "markdown",
      "source": [
        "There are 5541 unique species in the dataset. This indicates that there are a lot of distinct species in the parks"
      ],
      "metadata": {
        "id": "7iH8rix73gpz"
      }
    },
    {
      "cell_type": "markdown",
      "source": [
        "### `species_info.Category`"
      ],
      "metadata": {
        "id": "rPs6_1U-1_1u"
      }
    },
    {
      "cell_type": "markdown",
      "source": [
        "Next there will be a check on how many categories of species are there in total"
      ],
      "metadata": {
        "id": "huDeU8AG2Hb7"
      }
    },
    {
      "cell_type": "code",
      "source": [
        "print(f\"Number of categories: {species_info.category.nunique()}\")\n",
        "print(f\"Categories: {species_info.category.unique()}\")"
      ],
      "metadata": {
        "colab": {
          "base_uri": "https://localhost:8080/"
        },
        "id": "6jV82RkD2NW2",
        "outputId": "1919b2c7-d6a8-4ec0-d26c-d8effbca5b9c"
      },
      "execution_count": 14,
      "outputs": [
        {
          "output_type": "stream",
          "name": "stdout",
          "text": [
            "Number of categories: 7\n",
            "Categories: ['Mammal' 'Bird' 'Reptile' 'Amphibian' 'Fish' 'Vascular Plant'\n",
            " 'Nonvascular Plant']\n"
          ]
        }
      ]
    },
    {
      "cell_type": "markdown",
      "source": [
        "There are 7 categories of species including animals and plants. Next, a count of each category in the data"
      ],
      "metadata": {
        "id": "jS1efoMN4DvI"
      }
    },
    {
      "cell_type": "code",
      "source": [
        "species_info.groupby(\"category\").size()"
      ],
      "metadata": {
        "colab": {
          "base_uri": "https://localhost:8080/"
        },
        "id": "4PnDnyLw4WD0",
        "outputId": "88e38939-a7b7-4f47-91d1-e6478f73f345"
      },
      "execution_count": 15,
      "outputs": [
        {
          "output_type": "execute_result",
          "data": {
            "text/plain": [
              "category\n",
              "Amphibian              80\n",
              "Bird                  521\n",
              "Fish                  127\n",
              "Mammal                214\n",
              "Nonvascular Plant     333\n",
              "Reptile                79\n",
              "Vascular Plant       4470\n",
              "dtype: int64"
            ]
          },
          "metadata": {},
          "execution_count": 15
        }
      ]
    },
    {
      "cell_type": "code",
      "source": [
        "sns.countplot(x = \"category\", data = species_info)\n",
        "plt.xticks(rotation = 45)"
      ],
      "metadata": {
        "colab": {
          "base_uri": "https://localhost:8080/",
          "height": 673
        },
        "id": "mMHTD3tf4e0F",
        "outputId": "d47f2c4e-8432-435c-fd75-3dd26145207e"
      },
      "execution_count": 17,
      "outputs": [
        {
          "output_type": "execute_result",
          "data": {
            "text/plain": [
              "(array([0, 1, 2, 3, 4, 5, 6]),\n",
              " [Text(0, 0, 'Mammal'),\n",
              "  Text(1, 0, 'Bird'),\n",
              "  Text(2, 0, 'Reptile'),\n",
              "  Text(3, 0, 'Amphibian'),\n",
              "  Text(4, 0, 'Fish'),\n",
              "  Text(5, 0, 'Vascular Plant'),\n",
              "  Text(6, 0, 'Nonvascular Plant')])"
            ]
          },
          "metadata": {},
          "execution_count": 17
        },
        {
          "output_type": "display_data",
          "data": {
            "text/plain": [
              "<Figure size 640x480 with 1 Axes>"
            ],
            "image/png": "[encoded data removed]"
          },
          "metadata": {}
        }
      ]
    },
    {
      "cell_type": "markdown",
      "source": [
        "From the visualization above, It can be seen that the Vascular Plant category is by far the prevalent one, followed by the Bird category. Very few Reptiles, Amphibians and Fish were observed"
      ],
      "metadata": {
        "id": "ivKcwYj_4_De"
      }
    },
    {
      "cell_type": "markdown",
      "source": [
        "`species_info.conservation_status`"
      ],
      "metadata": {
        "id": "M5x_xoe15Vz8"
      }
    },
    {
      "cell_type": "markdown",
      "source": [
        "Next, there will be"
      ],
      "metadata": {
        "id": "i49KJDMb5xYA"
      }
    }
  ],
  "metadata": {
    "kernelspec": {
      "display_name": "Python 3",
      "language": "python",
      "name": "python3"
    },
    "language_info": {
      "codemirror_mode": {
        "name": "ipython",
        "version": 3
      },
      "file_extension": ".py",
      "mimetype": "text/x-python",
      "name": "python",
      "nbconvert_exporter": "python",
      "pygments_lexer": "ipython3",
      "version": "3.7.6"
    },
    "colab": {
      "provenance": [],
      "toc_visible": true,
      "include_colab_link": true
    }
  },
  "nbformat": 4,
  "nbformat_minor": 0
}