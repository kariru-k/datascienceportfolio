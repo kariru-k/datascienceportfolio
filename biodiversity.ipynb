{
  "cells": [
    {
      "cell_type": "markdown",
      "metadata": {
        "id": "view-in-github",
        "colab_type": "text"
      },
      "source": [
        "<a href=\"https://colab.research.google.com/github/kariru-k/datascienceportfolio/blob/main/biodiversity.ipynb\" target=\"_parent\"><img src=\"https://colab.research.google.com/assets/colab-badge.svg\" alt=\"Open In Colab\"/></a>"
      ]
    },
    {
      "cell_type": "markdown",
      "metadata": {
        "id": "WXtvcVU_w0Cu"
      },
      "source": [
        "# Introduction\n",
        "\n",
        "This goal of this project is to analyze biodiversity data from the National Parks Service, particularly around various species observed in different national park locations.\n",
        "\n",
        "This project will scope, analyze, prepare, plot data, and seek to explain the findings from the analysis.\n",
        "\n",
        "Here are a few questions that this project has sought to answer:\n",
        "\n",
        "- What is the distribution of conservation status for species?\n",
        "- Are certain types of species more likely to be endangered?\n",
        "- Are the differences between species and their conservation status significant?\n",
        "- Which animal is most prevalent and what is their distribution amongst parks?\n",
        "\n",
        "**Data sources:**\n",
        "\n",
        "Both `Observations.csv` and `Species_info.csv` was provided by [Codecademy.com](https://www.codecademy.com)"
      ]
    },
    {
      "cell_type": "markdown",
      "source": [
        "### Data\n",
        "\n",
        "This project has two data sets that came with the package. The first `csv` file has information about each species and another has observations of species with park locations. This data will be used to analyze the goals of the project. "
      ],
      "metadata": {
        "id": "47Kw7JWRyPNJ"
      }
    },
    {
      "cell_type": "markdown",
      "source": [
        "##  Import Relevant Libraries"
      ],
      "metadata": {
        "id": "Sbv8ZHt8v-0h"
      }
    },
    {
      "cell_type": "code",
      "execution_count": 47,
      "metadata": {
        "id": "0htPKwanvhz3"
      },
      "outputs": [],
      "source": [
        "import pandas as pd\n",
        "import numpy as np\n",
        "import matplotlib.pyplot as plt\n",
        "import seaborn as sns\n",
        "from scipy.stats import chi2_contingency\n"
      ]
    },
    {
      "cell_type": "markdown",
      "source": [
        "## Load the Dataset"
      ],
      "metadata": {
        "id": "c7bGSM5ZwDtX"
      }
    },
    {
      "cell_type": "markdown",
      "source": [
        "In order to observe the data first, we have to load the data into DataFrames using the pandas module"
      ],
      "metadata": {
        "id": "q1iZSyQeyXVr"
      }
    },
    {
      "cell_type": "markdown",
      "source": [
        "### Observations"
      ],
      "metadata": {
        "id": "78uY_fawye8O"
      }
    },
    {
      "cell_type": "code",
      "source": [
        "observations = pd.read_csv(\"observations.csv\")\n",
        "observations.columns"
      ],
      "metadata": {
        "colab": {
          "base_uri": "https://localhost:8080/"
        },
        "id": "7vNTTqO8wGCK",
        "outputId": "6600a0a5-441a-439c-c517-932f03b5a326"
      },
      "execution_count": 3,
      "outputs": [
        {
          "output_type": "execute_result",
          "data": {
            "text/plain": [
              "Index(['scientific_name', 'park_name', 'observations'], dtype='object')"
            ]
          },
          "metadata": {},
          "execution_count": 3
        }
      ]
    },
    {
      "cell_type": "code",
      "source": [
        "observations.head()"
      ],
      "metadata": {
        "colab": {
          "base_uri": "https://localhost:8080/",
          "height": 215
        },
        "id": "uYeuCTlYy9Lr",
        "outputId": "e8f3f629-e488-40ae-eb31-35e0d2e61664"
      },
      "execution_count": 4,
      "outputs": [
        {
          "output_type": "execute_result",
          "data": {
            "text/plain": [
              "            scientific_name                            park_name  observations\n",
              "0        Vicia benghalensis  Great Smoky Mountains National Park            68\n",
              "1            Neovison vison  Great Smoky Mountains National Park            77\n",
              "2         Prunus subcordata               Yosemite National Park           138\n",
              "3      Abutilon theophrasti                  Bryce National Park            84\n",
              "4  Githopsis specularioides  Great Smoky Mountains National Park            85"
            ],
            "text/html": [
              "\n",
              "  <div id=\"df-2746e3e4-df49-4d9e-bd7e-a3f3ae1ff78f\">\n",
              "    <div class=\"colab-df-container\">\n",
              "      <div>\n",
              "<style scoped>\n",
              "    .dataframe tbody tr th:only-of-type {\n",
              "        vertical-align: middle;\n",
              "    }\n",
              "\n",
              "    .dataframe tbody tr th {\n",
              "        vertical-align: top;\n",
              "    }\n",
              "\n",
              "    .dataframe thead th {\n",
              "        text-align: right;\n",
              "    }\n",
              "</style>\n",
              "<table border=\"1\" class=\"dataframe\">\n",
              "  <thead>\n",
              "    <tr style=\"text-align: right;\">\n",
              "      <th></th>\n",
              "      <th>scientific_name</th>\n",
              "      <th>park_name</th>\n",
              "      <th>observations</th>\n",
              "    </tr>\n",
              "  </thead>\n",
              "  <tbody>\n",
              "    <tr>\n",
              "      <th>0</th>\n",
              "      <td>Vicia benghalensis</td>\n",
              "      <td>Great Smoky Mountains National Park</td>\n",
              "      <td>68</td>\n",
              "    </tr>\n",
              "    <tr>\n",
              "      <th>1</th>\n",
              "      <td>Neovison vison</td>\n",
              "      <td>Great Smoky Mountains National Park</td>\n",
              "      <td>77</td>\n",
              "    </tr>\n",
              "    <tr>\n",
              "      <th>2</th>\n",
              "      <td>Prunus subcordata</td>\n",
              "      <td>Yosemite National Park</td>\n",
              "      <td>138</td>\n",
              "    </tr>\n",
              "    <tr>\n",
              "      <th>3</th>\n",
              "      <td>Abutilon theophrasti</td>\n",
              "      <td>Bryce National Park</td>\n",
              "      <td>84</td>\n",
              "    </tr>\n",
              "    <tr>\n",
              "      <th>4</th>\n",
              "      <td>Githopsis specularioides</td>\n",
              "      <td>Great Smoky Mountains National Park</td>\n",
              "      <td>85</td>\n",
              "    </tr>\n",
              "  </tbody>\n",
              "</table>\n",
              "</div>\n",
              "      <button class=\"colab-df-convert\" onclick=\"convertToInteractive('df-2746e3e4-df49-4d9e-bd7e-a3f3ae1ff78f')\"\n",
              "              title=\"Convert this dataframe to an interactive table.\"\n",
              "              style=\"display:none;\">\n",
              "        \n",
              "  <svg xmlns=\"http://www.w3.org/2000/svg\" height=\"24px\"viewBox=\"0 0 24 24\"\n",
              "       width=\"24px\">\n",
              "    <path d=\"M0 0h24v24H0V0z\" fill=\"none\"/>\n",
              "    <path d=\"M18.56 5.44l.94 2.06.94-2.06 2.06-.94-2.06-.94-.94-2.06-.94 2.06-2.06.94zm-11 1L8.5 8.5l.94-2.06 2.06-.94-2.06-.94L8.5 2.5l-.94 2.06-2.06.94zm10 10l.94 2.06.94-2.06 2.06-.94-2.06-.94-.94-2.06-.94 2.06-2.06.94z\"/><path d=\"M17.41 7.96l-1.37-1.37c-.4-.4-.92-.59-1.43-.59-.52 0-1.04.2-1.43.59L10.3 9.45l-7.72 7.72c-.78.78-.78 2.05 0 2.83L4 21.41c.39.39.9.59 1.41.59.51 0 1.02-.2 1.41-.59l7.78-7.78 2.81-2.81c.8-.78.8-2.07 0-2.86zM5.41 20L4 18.59l7.72-7.72 1.47 1.35L5.41 20z\"/>\n",
              "  </svg>\n",
              "      </button>\n",
              "      \n",
              "  <style>\n",
              "    .colab-df-container {\n",
              "      display:flex;\n",
              "      flex-wrap:wrap;\n",
              "      gap: 12px;\n",
              "    }\n",
              "\n",
              "    .colab-df-convert {\n",
              "      background-color: #E8F0FE;\n",
              "      border: none;\n",
              "      border-radius: 50%;\n",
              "      cursor: pointer;\n",
              "      display: none;\n",
              "      fill: #1967D2;\n",
              "      height: 32px;\n",
              "      padding: 0 0 0 0;\n",
              "      width: 32px;\n",
              "    }\n",
              "\n",
              "    .colab-df-convert:hover {\n",
              "      background-color: #E2EBFA;\n",
              "      box-shadow: 0px 1px 2px rgba(60, 64, 67, 0.3), 0px 1px 3px 1px rgba(60, 64, 67, 0.15);\n",
              "      fill: #174EA6;\n",
              "    }\n",
              "\n",
              "    [theme=dark] .colab-df-convert {\n",
              "      background-color: #3B4455;\n",
              "      fill: #D2E3FC;\n",
              "    }\n",
              "\n",
              "    [theme=dark] .colab-df-convert:hover {\n",
              "      background-color: #434B5C;\n",
              "      box-shadow: 0px 1px 3px 1px rgba(0, 0, 0, 0.15);\n",
              "      filter: drop-shadow(0px 1px 2px rgba(0, 0, 0, 0.3));\n",
              "      fill: #FFFFFF;\n",
              "    }\n",
              "  </style>\n",
              "\n",
              "      <script>\n",
              "        const buttonEl =\n",
              "          document.querySelector('#df-2746e3e4-df49-4d9e-bd7e-a3f3ae1ff78f button.colab-df-convert');\n",
              "        buttonEl.style.display =\n",
              "          google.colab.kernel.accessAllowed ? 'block' : 'none';\n",
              "\n",
              "        async function convertToInteractive(key) {\n",
              "          const element = document.querySelector('#df-2746e3e4-df49-4d9e-bd7e-a3f3ae1ff78f');\n",
              "          const dataTable =\n",
              "            await google.colab.kernel.invokeFunction('convertToInteractive',\n",
              "                                                     [key], {});\n",
              "          if (!dataTable) return;\n",
              "\n",
              "          const docLinkHtml = 'Like what you see? Visit the ' +\n",
              "            '<a target=\"_blank\" href=https://colab.research.google.com/notebooks/data_table.ipynb>data table notebook</a>'\n",
              "            + ' to learn more about interactive tables.';\n",
              "          element.innerHTML = '';\n",
              "          dataTable['output_type'] = 'display_data';\n",
              "          await google.colab.output.renderOutput(dataTable, element);\n",
              "          const docLink = document.createElement('div');\n",
              "          docLink.innerHTML = docLinkHtml;\n",
              "          element.appendChild(docLink);\n",
              "        }\n",
              "      </script>\n",
              "    </div>\n",
              "  </div>\n",
              "  "
            ]
          },
          "metadata": {},
          "execution_count": 4
        }
      ]
    },
    {
      "cell_type": "markdown",
      "source": [
        "Here we see that the observations dataset has three columns\n",
        "\n",
        "\n",
        "*   **scientific_name** - The scientific name of each species\n",
        "*   **park_name** - The name of the national park\n",
        "*   **observations** - The number of observations for the species in the park the past seven days\n",
        "\n",
        "\n"
      ],
      "metadata": {
        "id": "M8gCiflTyvET"
      }
    },
    {
      "cell_type": "markdown",
      "source": [
        "### Species_info"
      ],
      "metadata": {
        "id": "BHw0U2z4znW3"
      }
    },
    {
      "cell_type": "code",
      "source": [
        "species_info = pd.read_csv(\"species_info.csv\")\n",
        "species_info.columns"
      ],
      "metadata": {
        "colab": {
          "base_uri": "https://localhost:8080/"
        },
        "id": "BE9aJCkjzkO9",
        "outputId": "fb73bb2d-24d5-4694-e90a-33649602b4f4"
      },
      "execution_count": 5,
      "outputs": [
        {
          "output_type": "execute_result",
          "data": {
            "text/plain": [
              "Index(['category', 'scientific_name', 'common_names', 'conservation_status'], dtype='object')"
            ]
          },
          "metadata": {},
          "execution_count": 5
        }
      ]
    },
    {
      "cell_type": "code",
      "source": [
        "species_info.head()"
      ],
      "metadata": {
        "colab": {
          "base_uri": "https://localhost:8080/",
          "height": 215
        },
        "id": "aaYxfoUnz2DK",
        "outputId": "a3dcaf2e-ba34-418c-ac7b-b84770672ddf"
      },
      "execution_count": 6,
      "outputs": [
        {
          "output_type": "execute_result",
          "data": {
            "text/plain": [
              "  category                scientific_name  \\\n",
              "0   Mammal  Clethrionomys gapperi gapperi   \n",
              "1   Mammal                      Bos bison   \n",
              "2   Mammal                     Bos taurus   \n",
              "3   Mammal                     Ovis aries   \n",
              "4   Mammal                 Cervus elaphus   \n",
              "\n",
              "                                        common_names conservation_status  \n",
              "0                           Gapper's Red-Backed Vole                 NaN  \n",
              "1                              American Bison, Bison                 NaN  \n",
              "2  Aurochs, Aurochs, Domestic Cattle (Feral), Dom...                 NaN  \n",
              "3  Domestic Sheep, Mouflon, Red Sheep, Sheep (Feral)                 NaN  \n",
              "4                                      Wapiti Or Elk                 NaN  "
            ],
            "text/html": [
              "\n",
              "  <div id=\"df-5bf2b214-3ebb-40f7-a6b9-ca2116b35179\">\n",
              "    <div class=\"colab-df-container\">\n",
              "      <div>\n",
              "<style scoped>\n",
              "    .dataframe tbody tr th:only-of-type {\n",
              "        vertical-align: middle;\n",
              "    }\n",
              "\n",
              "    .dataframe tbody tr th {\n",
              "        vertical-align: top;\n",
              "    }\n",
              "\n",
              "    .dataframe thead th {\n",
              "        text-align: right;\n",
              "    }\n",
              "</style>\n",
              "<table border=\"1\" class=\"dataframe\">\n",
              "  <thead>\n",
              "    <tr style=\"text-align: right;\">\n",
              "      <th></th>\n",
              "      <th>category</th>\n",
              "      <th>scientific_name</th>\n",
              "      <th>common_names</th>\n",
              "      <th>conservation_status</th>\n",
              "    </tr>\n",
              "  </thead>\n",
              "  <tbody>\n",
              "    <tr>\n",
              "      <th>0</th>\n",
              "      <td>Mammal</td>\n",
              "      <td>Clethrionomys gapperi gapperi</td>\n",
              "      <td>Gapper's Red-Backed Vole</td>\n",
              "      <td>NaN</td>\n",
              "    </tr>\n",
              "    <tr>\n",
              "      <th>1</th>\n",
              "      <td>Mammal</td>\n",
              "      <td>Bos bison</td>\n",
              "      <td>American Bison, Bison</td>\n",
              "      <td>NaN</td>\n",
              "    </tr>\n",
              "    <tr>\n",
              "      <th>2</th>\n",
              "      <td>Mammal</td>\n",
              "      <td>Bos taurus</td>\n",
              "      <td>Aurochs, Aurochs, Domestic Cattle (Feral), Dom...</td>\n",
              "      <td>NaN</td>\n",
              "    </tr>\n",
              "    <tr>\n",
              "      <th>3</th>\n",
              "      <td>Mammal</td>\n",
              "      <td>Ovis aries</td>\n",
              "      <td>Domestic Sheep, Mouflon, Red Sheep, Sheep (Feral)</td>\n",
              "      <td>NaN</td>\n",
              "    </tr>\n",
              "    <tr>\n",
              "      <th>4</th>\n",
              "      <td>Mammal</td>\n",
              "      <td>Cervus elaphus</td>\n",
              "      <td>Wapiti Or Elk</td>\n",
              "      <td>NaN</td>\n",
              "    </tr>\n",
              "  </tbody>\n",
              "</table>\n",
              "</div>\n",
              "      <button class=\"colab-df-convert\" onclick=\"convertToInteractive('df-5bf2b214-3ebb-40f7-a6b9-ca2116b35179')\"\n",
              "              title=\"Convert this dataframe to an interactive table.\"\n",
              "              style=\"display:none;\">\n",
              "        \n",
              "  <svg xmlns=\"http://www.w3.org/2000/svg\" height=\"24px\"viewBox=\"0 0 24 24\"\n",
              "       width=\"24px\">\n",
              "    <path d=\"M0 0h24v24H0V0z\" fill=\"none\"/>\n",
              "    <path d=\"M18.56 5.44l.94 2.06.94-2.06 2.06-.94-2.06-.94-.94-2.06-.94 2.06-2.06.94zm-11 1L8.5 8.5l.94-2.06 2.06-.94-2.06-.94L8.5 2.5l-.94 2.06-2.06.94zm10 10l.94 2.06.94-2.06 2.06-.94-2.06-.94-.94-2.06-.94 2.06-2.06.94z\"/><path d=\"M17.41 7.96l-1.37-1.37c-.4-.4-.92-.59-1.43-.59-.52 0-1.04.2-1.43.59L10.3 9.45l-7.72 7.72c-.78.78-.78 2.05 0 2.83L4 21.41c.39.39.9.59 1.41.59.51 0 1.02-.2 1.41-.59l7.78-7.78 2.81-2.81c.8-.78.8-2.07 0-2.86zM5.41 20L4 18.59l7.72-7.72 1.47 1.35L5.41 20z\"/>\n",
              "  </svg>\n",
              "      </button>\n",
              "      \n",
              "  <style>\n",
              "    .colab-df-container {\n",
              "      display:flex;\n",
              "      flex-wrap:wrap;\n",
              "      gap: 12px;\n",
              "    }\n",
              "\n",
              "    .colab-df-convert {\n",
              "      background-color: #E8F0FE;\n",
              "      border: none;\n",
              "      border-radius: 50%;\n",
              "      cursor: pointer;\n",
              "      display: none;\n",
              "      fill: #1967D2;\n",
              "      height: 32px;\n",
              "      padding: 0 0 0 0;\n",
              "      width: 32px;\n",
              "    }\n",
              "\n",
              "    .colab-df-convert:hover {\n",
              "      background-color: #E2EBFA;\n",
              "      box-shadow: 0px 1px 2px rgba(60, 64, 67, 0.3), 0px 1px 3px 1px rgba(60, 64, 67, 0.15);\n",
              "      fill: #174EA6;\n",
              "    }\n",
              "\n",
              "    [theme=dark] .colab-df-convert {\n",
              "      background-color: #3B4455;\n",
              "      fill: #D2E3FC;\n",
              "    }\n",
              "\n",
              "    [theme=dark] .colab-df-convert:hover {\n",
              "      background-color: #434B5C;\n",
              "      box-shadow: 0px 1px 3px 1px rgba(0, 0, 0, 0.15);\n",
              "      filter: drop-shadow(0px 1px 2px rgba(0, 0, 0, 0.3));\n",
              "      fill: #FFFFFF;\n",
              "    }\n",
              "  </style>\n",
              "\n",
              "      <script>\n",
              "        const buttonEl =\n",
              "          document.querySelector('#df-5bf2b214-3ebb-40f7-a6b9-ca2116b35179 button.colab-df-convert');\n",
              "        buttonEl.style.display =\n",
              "          google.colab.kernel.accessAllowed ? 'block' : 'none';\n",
              "\n",
              "        async function convertToInteractive(key) {\n",
              "          const element = document.querySelector('#df-5bf2b214-3ebb-40f7-a6b9-ca2116b35179');\n",
              "          const dataTable =\n",
              "            await google.colab.kernel.invokeFunction('convertToInteractive',\n",
              "                                                     [key], {});\n",
              "          if (!dataTable) return;\n",
              "\n",
              "          const docLinkHtml = 'Like what you see? Visit the ' +\n",
              "            '<a target=\"_blank\" href=https://colab.research.google.com/notebooks/data_table.ipynb>data table notebook</a>'\n",
              "            + ' to learn more about interactive tables.';\n",
              "          element.innerHTML = '';\n",
              "          dataTable['output_type'] = 'display_data';\n",
              "          await google.colab.output.renderOutput(dataTable, element);\n",
              "          const docLink = document.createElement('div');\n",
              "          docLink.innerHTML = docLinkHtml;\n",
              "          element.appendChild(docLink);\n",
              "        }\n",
              "      </script>\n",
              "    </div>\n",
              "  </div>\n",
              "  "
            ]
          },
          "metadata": {},
          "execution_count": 6
        }
      ]
    },
    {
      "cell_type": "markdown",
      "source": [
        "We see that the species_info dataset has 4 columns\n",
        "\n",
        "\n",
        "*   category - The category of species\n",
        "*   scientific_name - The scientific name of the species\n",
        "*   common_names - The common names of the species\n",
        "*   conservation_status - The conservation status of the species\n",
        "\n"
      ],
      "metadata": {
        "id": "TyJENkVA0ANW"
      }
    },
    {
      "cell_type": "markdown",
      "source": [
        "## Data Characteristics"
      ],
      "metadata": {
        "id": "37CNFLgE0e_Q"
      }
    },
    {
      "cell_type": "code",
      "source": [
        "print(f\"Observation dataset shape: {observations.shape}\")\n",
        "print(f\"Species dataset shape: {species_info.shape}\")"
      ],
      "metadata": {
        "colab": {
          "base_uri": "https://localhost:8080/"
        },
        "id": "aH1dGpF60joX",
        "outputId": "f18ee8c6-15b0-427a-ccd9-d8682a5b8d7a"
      },
      "execution_count": 8,
      "outputs": [
        {
          "output_type": "stream",
          "name": "stdout",
          "text": [
            "Observation dataset shape: (23296, 3)\n",
            "Species dataset shape: (5824, 4)\n"
          ]
        }
      ]
    },
    {
      "cell_type": "markdown",
      "source": [
        "Here we can see that the `Observation` dataset has 23296 rows and 3 columns while the `Species` dataset has 5824 rows and 4 columns"
      ],
      "metadata": {
        "id": "1LMw-YbM1JC-"
      }
    },
    {
      "cell_type": "markdown",
      "source": [
        "# Exploratory Data Analysis"
      ],
      "metadata": {
        "id": "ilv1ltQT1faI"
      }
    },
    {
      "cell_type": "markdown",
      "source": [
        "## `species_info`"
      ],
      "metadata": {
        "id": "m6jVbwff9ksU"
      }
    },
    {
      "cell_type": "markdown",
      "source": [
        "###Univariate Data Analysis"
      ],
      "metadata": {
        "id": "T8r2Lcj_1mJl"
      }
    },
    {
      "cell_type": "markdown",
      "source": [
        "There will first be a check on the `species_info` dataset in order to comprehend the contents properly"
      ],
      "metadata": {
        "id": "iOwS65iS11bK"
      }
    },
    {
      "cell_type": "markdown",
      "source": [
        "#### `species_info.species`"
      ],
      "metadata": {
        "id": "uK7ejyZU2lpm"
      }
    },
    {
      "cell_type": "markdown",
      "source": [
        "There will be a check to find out the number of distinct species in the national parks\n"
      ],
      "metadata": {
        "id": "5SlPK2CL2oPm"
      }
    },
    {
      "cell_type": "code",
      "source": [
        "print(f\"Number of unique species: {species_info.scientific_name.nunique()}\")"
      ],
      "metadata": {
        "colab": {
          "base_uri": "https://localhost:8080/"
        },
        "id": "Ol8RMU8k3H99",
        "outputId": "d0b9701b-68c2-4b2b-ddf1-a5c5d0544d03"
      },
      "execution_count": 13,
      "outputs": [
        {
          "output_type": "stream",
          "name": "stdout",
          "text": [
            "Number of unique species: 5541\n"
          ]
        }
      ]
    },
    {
      "cell_type": "markdown",
      "source": [
        "There are 5541 unique species in the dataset. This indicates that there are a lot of distinct species in the parks"
      ],
      "metadata": {
        "id": "7iH8rix73gpz"
      }
    },
    {
      "cell_type": "markdown",
      "source": [
        "#### `species_info.Category`"
      ],
      "metadata": {
        "id": "rPs6_1U-1_1u"
      }
    },
    {
      "cell_type": "markdown",
      "source": [
        "Next there will be a check on how many categories of species are there in total"
      ],
      "metadata": {
        "id": "huDeU8AG2Hb7"
      }
    },
    {
      "cell_type": "code",
      "source": [
        "print(f\"Number of categories: {species_info.category.nunique()}\")\n",
        "print(f\"Categories: {species_info.category.unique()}\")"
      ],
      "metadata": {
        "colab": {
          "base_uri": "https://localhost:8080/"
        },
        "id": "6jV82RkD2NW2",
        "outputId": "1919b2c7-d6a8-4ec0-d26c-d8effbca5b9c"
      },
      "execution_count": 14,
      "outputs": [
        {
          "output_type": "stream",
          "name": "stdout",
          "text": [
            "Number of categories: 7\n",
            "Categories: ['Mammal' 'Bird' 'Reptile' 'Amphibian' 'Fish' 'Vascular Plant'\n",
            " 'Nonvascular Plant']\n"
          ]
        }
      ]
    },
    {
      "cell_type": "markdown",
      "source": [
        "There are 7 categories of species including animals and plants. Next, a count of each category in the data"
      ],
      "metadata": {
        "id": "jS1efoMN4DvI"
      }
    },
    {
      "cell_type": "code",
      "source": [
        "species_info.groupby(\"category\").size()"
      ],
      "metadata": {
        "colab": {
          "base_uri": "https://localhost:8080/"
        },
        "id": "4PnDnyLw4WD0",
        "outputId": "88e38939-a7b7-4f47-91d1-e6478f73f345"
      },
      "execution_count": 15,
      "outputs": [
        {
          "output_type": "execute_result",
          "data": {
            "text/plain": [
              "category\n",
              "Amphibian              80\n",
              "Bird                  521\n",
              "Fish                  127\n",
              "Mammal                214\n",
              "Nonvascular Plant     333\n",
              "Reptile                79\n",
              "Vascular Plant       4470\n",
              "dtype: int64"
            ]
          },
          "metadata": {},
          "execution_count": 15
        }
      ]
    },
    {
      "cell_type": "code",
      "source": [
        "sns.countplot(x = \"category\", data = species_info)\n",
        "plt.xticks(rotation = 45)"
      ],
      "metadata": {
        "colab": {
          "base_uri": "https://localhost:8080/",
          "height": 673
        },
        "id": "mMHTD3tf4e0F",
        "outputId": "d47f2c4e-8432-435c-fd75-3dd26145207e"
      },
      "execution_count": 17,
      "outputs": [
        {
          "output_type": "execute_result",
          "data": {
            "text/plain": [
              "(array([0, 1, 2, 3, 4, 5, 6]),\n",
              " [Text(0, 0, 'Mammal'),\n",
              "  Text(1, 0, 'Bird'),\n",
              "  Text(2, 0, 'Reptile'),\n",
              "  Text(3, 0, 'Amphibian'),\n",
              "  Text(4, 0, 'Fish'),\n",
              "  Text(5, 0, 'Vascular Plant'),\n",
              "  Text(6, 0, 'Nonvascular Plant')])"
            ]
          },
          "metadata": {},
          "execution_count": 17
        },
        {
          "output_type": "display_data",
          "data": {
            "text/plain": [
              "<Figure size 640x480 with 1 Axes>"
            ],
            "image/png": "[encoded data removed]"
          },
          "metadata": {}
        }
      ]
    },
    {
      "cell_type": "markdown",
      "source": [
        "From the visualization above, It can be seen that the Vascular Plant category is by far the prevalent one, followed by the Bird category. Very few Reptiles, Amphibians and Fish were observed"
      ],
      "metadata": {
        "id": "ivKcwYj_4_De"
      }
    },
    {
      "cell_type": "markdown",
      "source": [
        "#### `species_info.conservation_status`\n"
      ],
      "metadata": {
        "id": "M5x_xoe15Vz8"
      }
    },
    {
      "cell_type": "markdown",
      "source": [
        "Next, there will be a check on the conservation_status variable.\n",
        "First, a check on the types of conservation statuses that are there"
      ],
      "metadata": {
        "id": "i49KJDMb5xYA"
      }
    },
    {
      "cell_type": "code",
      "source": [
        "print(f\"Conservation Status Number: {species_info.conservation_status.nunique()}\")\n",
        "print(f\"Conservation Status Categories: {species_info.conservation_status.unique()}\")"
      ],
      "metadata": {
        "colab": {
          "base_uri": "https://localhost:8080/"
        },
        "id": "Z7kWwER26x2m",
        "outputId": "852d1577-835f-4967-e680-a3b9be6db5dc"
      },
      "execution_count": 18,
      "outputs": [
        {
          "output_type": "stream",
          "name": "stdout",
          "text": [
            "Conservation Status Number: 4\n",
            "Conservation Status Categories: [nan 'Species of Concern' 'Endangered' 'Threatened' 'In Recovery']\n"
          ]
        }
      ]
    },
    {
      "cell_type": "markdown",
      "source": [
        "There are 4 Conservation Statuses present:\n",
        "\n",
        "\n",
        "*   `Species of Concern`\n",
        "*   `Endangered`\n",
        "*   `Threatened`\n",
        "*   `In Recovery`\n",
        "\n",
        "The presence of `nan` values indicates that those species are not under any conservation status\n",
        "\n",
        "Next, there will be a check on the count for each Conservation Status"
      ],
      "metadata": {
        "id": "mzmlQP-y7EXc"
      }
    },
    {
      "cell_type": "code",
      "source": [
        "species_info.groupby(\"conservation_status\").size()"
      ],
      "metadata": {
        "colab": {
          "base_uri": "https://localhost:8080/"
        },
        "id": "tgg6t3lw7gMD",
        "outputId": "8bb97d21-1e2d-4c88-db56-07c2134a0137"
      },
      "execution_count": 19,
      "outputs": [
        {
          "output_type": "execute_result",
          "data": {
            "text/plain": [
              "conservation_status\n",
              "Endangered             16\n",
              "In Recovery             4\n",
              "Species of Concern    161\n",
              "Threatened             10\n",
              "dtype: int64"
            ]
          },
          "metadata": {},
          "execution_count": 19
        }
      ]
    },
    {
      "cell_type": "code",
      "source": [
        "sns.countplot(x = \"conservation_status\", data = species_info)\n",
        "plt.xticks(rotation = 45)"
      ],
      "metadata": {
        "colab": {
          "base_uri": "https://localhost:8080/",
          "height": 626
        },
        "id": "ESbc92tx8Ez7",
        "outputId": "6ed47ac1-85e6-4d40-99f6-8cde97918abe"
      },
      "execution_count": 20,
      "outputs": [
        {
          "output_type": "execute_result",
          "data": {
            "text/plain": [
              "(array([0, 1, 2, 3]),\n",
              " [Text(0, 0, 'Species of Concern'),\n",
              "  Text(1, 0, 'Endangered'),\n",
              "  Text(2, 0, 'Threatened'),\n",
              "  Text(3, 0, 'In Recovery')])"
            ]
          },
          "metadata": {},
          "execution_count": 20
        },
        {
          "output_type": "display_data",
          "data": {
            "text/plain": [
              "<Figure size 640x480 with 1 Axes>"
            ],
            "image/png": "[encoded data removed]"
          },
          "metadata": {}
        }
      ]
    },
    {
      "cell_type": "markdown",
      "source": [
        "As can be seen from the visualization, there are 161 `Species of Concern`, 16 `Endangered` species, 10 `Threatened` species and 4 `In Recovery` species"
      ],
      "metadata": {
        "id": "Touwz62J8NgL"
      }
    },
    {
      "cell_type": "markdown",
      "source": [
        "### Multi-variate Data Analysis"
      ],
      "metadata": {
        "id": "u9FtiiYc979l"
      }
    },
    {
      "cell_type": "markdown",
      "source": [
        "Based on the columns in the dataset, the columns `conservation_status` and `category` can be analyzed together in order to see the conservation status details for each category. First, the `nan` values must be replaced with a more applicable category `Not Currently In Danger`"
      ],
      "metadata": {
        "id": "8iBALxBg-AVs"
      }
    },
    {
      "cell_type": "code",
      "source": [
        "species_info = species_info.fillna(\n",
        "    value = {\n",
        "        \"conservation_status\": \"Not Currently In Danger\"\n",
        "    }\n",
        ")"
      ],
      "metadata": {
        "id": "9yQ-gcHrCrp_"
      },
      "execution_count": 21,
      "outputs": []
    },
    {
      "cell_type": "code",
      "source": [
        "species_info.groupby(\"conservation_status\").size()"
      ],
      "metadata": {
        "colab": {
          "base_uri": "https://localhost:8080/"
        },
        "id": "qL_v1Ql-DDho",
        "outputId": "12c5fcf4-8a5f-4d9d-a462-b3ae411b91f3"
      },
      "execution_count": 22,
      "outputs": [
        {
          "output_type": "execute_result",
          "data": {
            "text/plain": [
              "conservation_status\n",
              "Endangered                   16\n",
              "In Recovery                   4\n",
              "Not Currently In Danger    5633\n",
              "Species of Concern          161\n",
              "Threatened                   10\n",
              "dtype: int64"
            ]
          },
          "metadata": {},
          "execution_count": 22
        }
      ]
    },
    {
      "cell_type": "code",
      "source": [
        "sns.countplot(x = \"conservation_status\", data = species_info)\n",
        "plt.xticks(rotation = 45)"
      ],
      "metadata": {
        "colab": {
          "base_uri": "https://localhost:8080/",
          "height": 667
        },
        "id": "BwVU5vdLDIyI",
        "outputId": "b08f6b87-e043-4180-bf0f-a5b212018ee7"
      },
      "execution_count": 23,
      "outputs": [
        {
          "output_type": "execute_result",
          "data": {
            "text/plain": [
              "(array([0, 1, 2, 3, 4]),\n",
              " [Text(0, 0, 'Not Currently In Danger'),\n",
              "  Text(1, 0, 'Species of Concern'),\n",
              "  Text(2, 0, 'Endangered'),\n",
              "  Text(3, 0, 'Threatened'),\n",
              "  Text(4, 0, 'In Recovery')])"
            ]
          },
          "metadata": {},
          "execution_count": 23
        },
        {
          "output_type": "display_data",
          "data": {
            "text/plain": [
              "<Figure size 640x480 with 1 Axes>"
            ],
            "image/png": "[encoded data removed]"
          },
          "metadata": {}
        }
      ]
    },
    {
      "cell_type": "markdown",
      "source": [
        "A crosstab can now be used to visualize the conservation statuses and how they relate to the categories"
      ],
      "metadata": {
        "id": "xVPiffrpDYM0"
      }
    },
    {
      "cell_type": "code",
      "source": [
        "conservation_category = species_info[species_info.conservation_status != \"Not Currently In Danger\"]\n",
        "\n",
        "status_category_freq = pd.crosstab(conservation_category.conservation_status, conservation_category.category)\n",
        "status_category_freq"
      ],
      "metadata": {
        "colab": {
          "base_uri": "https://localhost:8080/",
          "height": 206
        },
        "id": "Clx68PTFD0iV",
        "outputId": "cb14ae7a-db35-407c-f289-087734143e9d"
      },
      "execution_count": 25,
      "outputs": [
        {
          "output_type": "execute_result",
          "data": {
            "text/plain": [
              "category             Amphibian  Bird  Fish  Mammal  Nonvascular Plant  \\\n",
              "conservation_status                                                     \n",
              "Endangered                   1     4     3       7                  0   \n",
              "In Recovery                  0     3     0       1                  0   \n",
              "Species of Concern           4    72     4      28                  5   \n",
              "Threatened                   2     0     4       2                  0   \n",
              "\n",
              "category             Reptile  Vascular Plant  \n",
              "conservation_status                           \n",
              "Endangered                 0               1  \n",
              "In Recovery                0               0  \n",
              "Species of Concern         5              43  \n",
              "Threatened                 0               2  "
            ],
            "text/html": [
              "\n",
              "  <div id=\"df-05688d7f-beea-4eb2-98cf-1e6e7cd2b53e\">\n",
              "    <div class=\"colab-df-container\">\n",
              "      <div>\n",
              "<style scoped>\n",
              "    .dataframe tbody tr th:only-of-type {\n",
              "        vertical-align: middle;\n",
              "    }\n",
              "\n",
              "    .dataframe tbody tr th {\n",
              "        vertical-align: top;\n",
              "    }\n",
              "\n",
              "    .dataframe thead th {\n",
              "        text-align: right;\n",
              "    }\n",
              "</style>\n",
              "<table border=\"1\" class=\"dataframe\">\n",
              "  <thead>\n",
              "    <tr style=\"text-align: right;\">\n",
              "      <th>category</th>\n",
              "      <th>Amphibian</th>\n",
              "      <th>Bird</th>\n",
              "      <th>Fish</th>\n",
              "      <th>Mammal</th>\n",
              "      <th>Nonvascular Plant</th>\n",
              "      <th>Reptile</th>\n",
              "      <th>Vascular Plant</th>\n",
              "    </tr>\n",
              "    <tr>\n",
              "      <th>conservation_status</th>\n",
              "      <th></th>\n",
              "      <th></th>\n",
              "      <th></th>\n",
              "      <th></th>\n",
              "      <th></th>\n",
              "      <th></th>\n",
              "      <th></th>\n",
              "    </tr>\n",
              "  </thead>\n",
              "  <tbody>\n",
              "    <tr>\n",
              "      <th>Endangered</th>\n",
              "      <td>1</td>\n",
              "      <td>4</td>\n",
              "      <td>3</td>\n",
              "      <td>7</td>\n",
              "      <td>0</td>\n",
              "      <td>0</td>\n",
              "      <td>1</td>\n",
              "    </tr>\n",
              "    <tr>\n",
              "      <th>In Recovery</th>\n",
              "      <td>0</td>\n",
              "      <td>3</td>\n",
              "      <td>0</td>\n",
              "      <td>1</td>\n",
              "      <td>0</td>\n",
              "      <td>0</td>\n",
              "      <td>0</td>\n",
              "    </tr>\n",
              "    <tr>\n",
              "      <th>Species of Concern</th>\n",
              "      <td>4</td>\n",
              "      <td>72</td>\n",
              "      <td>4</td>\n",
              "      <td>28</td>\n",
              "      <td>5</td>\n",
              "      <td>5</td>\n",
              "      <td>43</td>\n",
              "    </tr>\n",
              "    <tr>\n",
              "      <th>Threatened</th>\n",
              "      <td>2</td>\n",
              "      <td>0</td>\n",
              "      <td>4</td>\n",
              "      <td>2</td>\n",
              "      <td>0</td>\n",
              "      <td>0</td>\n",
              "      <td>2</td>\n",
              "    </tr>\n",
              "  </tbody>\n",
              "</table>\n",
              "</div>\n",
              "      <button class=\"colab-df-convert\" onclick=\"convertToInteractive('df-05688d7f-beea-4eb2-98cf-1e6e7cd2b53e')\"\n",
              "              title=\"Convert this dataframe to an interactive table.\"\n",
              "              style=\"display:none;\">\n",
              "        \n",
              "  <svg xmlns=\"http://www.w3.org/2000/svg\" height=\"24px\"viewBox=\"0 0 24 24\"\n",
              "       width=\"24px\">\n",
              "    <path d=\"M0 0h24v24H0V0z\" fill=\"none\"/>\n",
              "    <path d=\"M18.56 5.44l.94 2.06.94-2.06 2.06-.94-2.06-.94-.94-2.06-.94 2.06-2.06.94zm-11 1L8.5 8.5l.94-2.06 2.06-.94-2.06-.94L8.5 2.5l-.94 2.06-2.06.94zm10 10l.94 2.06.94-2.06 2.06-.94-2.06-.94-.94-2.06-.94 2.06-2.06.94z\"/><path d=\"M17.41 7.96l-1.37-1.37c-.4-.4-.92-.59-1.43-.59-.52 0-1.04.2-1.43.59L10.3 9.45l-7.72 7.72c-.78.78-.78 2.05 0 2.83L4 21.41c.39.39.9.59 1.41.59.51 0 1.02-.2 1.41-.59l7.78-7.78 2.81-2.81c.8-.78.8-2.07 0-2.86zM5.41 20L4 18.59l7.72-7.72 1.47 1.35L5.41 20z\"/>\n",
              "  </svg>\n",
              "      </button>\n",
              "      \n",
              "  <style>\n",
              "    .colab-df-container {\n",
              "      display:flex;\n",
              "      flex-wrap:wrap;\n",
              "      gap: 12px;\n",
              "    }\n",
              "\n",
              "    .colab-df-convert {\n",
              "      background-color: #E8F0FE;\n",
              "      border: none;\n",
              "      border-radius: 50%;\n",
              "      cursor: pointer;\n",
              "      display: none;\n",
              "      fill: #1967D2;\n",
              "      height: 32px;\n",
              "      padding: 0 0 0 0;\n",
              "      width: 32px;\n",
              "    }\n",
              "\n",
              "    .colab-df-convert:hover {\n",
              "      background-color: #E2EBFA;\n",
              "      box-shadow: 0px 1px 2px rgba(60, 64, 67, 0.3), 0px 1px 3px 1px rgba(60, 64, 67, 0.15);\n",
              "      fill: #174EA6;\n",
              "    }\n",
              "\n",
              "    [theme=dark] .colab-df-convert {\n",
              "      background-color: #3B4455;\n",
              "      fill: #D2E3FC;\n",
              "    }\n",
              "\n",
              "    [theme=dark] .colab-df-convert:hover {\n",
              "      background-color: #434B5C;\n",
              "      box-shadow: 0px 1px 3px 1px rgba(0, 0, 0, 0.15);\n",
              "      filter: drop-shadow(0px 1px 2px rgba(0, 0, 0, 0.3));\n",
              "      fill: #FFFFFF;\n",
              "    }\n",
              "  </style>\n",
              "\n",
              "      <script>\n",
              "        const buttonEl =\n",
              "          document.querySelector('#df-05688d7f-beea-4eb2-98cf-1e6e7cd2b53e button.colab-df-convert');\n",
              "        buttonEl.style.display =\n",
              "          google.colab.kernel.accessAllowed ? 'block' : 'none';\n",
              "\n",
              "        async function convertToInteractive(key) {\n",
              "          const element = document.querySelector('#df-05688d7f-beea-4eb2-98cf-1e6e7cd2b53e');\n",
              "          const dataTable =\n",
              "            await google.colab.kernel.invokeFunction('convertToInteractive',\n",
              "                                                     [key], {});\n",
              "          if (!dataTable) return;\n",
              "\n",
              "          const docLinkHtml = 'Like what you see? Visit the ' +\n",
              "            '<a target=\"_blank\" href=https://colab.research.google.com/notebooks/data_table.ipynb>data table notebook</a>'\n",
              "            + ' to learn more about interactive tables.';\n",
              "          element.innerHTML = '';\n",
              "          dataTable['output_type'] = 'display_data';\n",
              "          await google.colab.output.renderOutput(dataTable, element);\n",
              "          const docLink = document.createElement('div');\n",
              "          docLink.innerHTML = docLinkHtml;\n",
              "          element.appendChild(docLink);\n",
              "        }\n",
              "      </script>\n",
              "    </div>\n",
              "  </div>\n",
              "  "
            ]
          },
          "metadata": {},
          "execution_count": 25
        }
      ]
    },
    {
      "cell_type": "markdown",
      "source": [
        "The above table shows that mammals have the most endangered species while birds have the most species in concern. There are hardly any reptiles and plants with a conservation status. This can be seen in the following visualization"
      ],
      "metadata": {
        "id": "HtkSNlHraFqx"
      }
    },
    {
      "cell_type": "code",
      "source": [
        "sns.countplot(data = conservation_category, x=\"conservation_status\", hue=\"category\")\n",
        "plt.ylabel(\"Number of Species\")"
      ],
      "metadata": {
        "colab": {
          "base_uri": "https://localhost:8080/",
          "height": 467
        },
        "id": "lprOsIctaiyf",
        "outputId": "2067e874-2a1c-4daf-ab6c-52616d2fade1"
      },
      "execution_count": 27,
      "outputs": [
        {
          "output_type": "execute_result",
          "data": {
            "text/plain": [
              "Text(0, 0.5, 'Number of Species')"
            ]
          },
          "metadata": {},
          "execution_count": 27
        },
        {
          "output_type": "display_data",
          "data": {
            "text/plain": [
              "<Figure size 640x480 with 1 Axes>"
            ],
            "image/png": "[encoded data removed]"
          },
          "metadata": {}
        }
      ]
    },
    {
      "cell_type": "markdown",
      "source": [
        "## `observations`"
      ],
      "metadata": {
        "id": "_AXCMJtrbX7y"
      }
    },
    {
      "cell_type": "markdown",
      "source": [
        "### Univariate Analysis"
      ],
      "metadata": {
        "id": "Cn6pFW-tccBs"
      }
    },
    {
      "cell_type": "markdown",
      "source": [
        "The `observations` dataset has 3 columns"
      ],
      "metadata": {
        "id": "rYpWNFQqbedS"
      }
    },
    {
      "cell_type": "markdown",
      "source": [
        "#### `observations.scientific_names`"
      ],
      "metadata": {
        "id": "hZpFmZRsbwbO"
      }
    },
    {
      "cell_type": "markdown",
      "source": [
        "First, there will be a check for how many distinct species were observed "
      ],
      "metadata": {
        "id": "GswmPLowb1nL"
      }
    },
    {
      "cell_type": "code",
      "source": [
        "print(f\"Number of unique observed species: {observations.scientific_name.nunique()}\")"
      ],
      "metadata": {
        "colab": {
          "base_uri": "https://localhost:8080/"
        },
        "id": "5UpfLLd2b66n",
        "outputId": "a65a0cf4-d72e-4104-cdb3-92fca318c242"
      },
      "execution_count": 28,
      "outputs": [
        {
          "output_type": "stream",
          "name": "stdout",
          "text": [
            "Number of unique observed species: 5541\n"
          ]
        }
      ]
    },
    {
      "cell_type": "markdown",
      "source": [
        "The number of unique observed species is 5541, which is the same number of species that were established in the `species_info` dataset"
      ],
      "metadata": {
        "id": "-oD0eRzocNNR"
      }
    },
    {
      "cell_type": "markdown",
      "source": [
        "####`observations.park_name`"
      ],
      "metadata": {
        "id": "_QiChpPacXw_"
      }
    },
    {
      "cell_type": "markdown",
      "source": [
        "Next, there is a check for the number of parks in which observations were made"
      ],
      "metadata": {
        "id": "no2qfzDCcoan"
      }
    },
    {
      "cell_type": "code",
      "source": [
        "print(f\"Number of parks where there were observed species: {observations.park_name.nunique()}\")\n",
        "print(f\"Parks where there were observed species: {observations.park_name.unique()}\")"
      ],
      "metadata": {
        "colab": {
          "base_uri": "https://localhost:8080/"
        },
        "id": "kfNoeYrzcsd0",
        "outputId": "3d60f29c-bebe-4389-9e51-a21436bf79fe"
      },
      "execution_count": 30,
      "outputs": [
        {
          "output_type": "stream",
          "name": "stdout",
          "text": [
            "Number of parks where there were observed species: 4\n",
            "Parks where there were observed species: ['Great Smoky Mountains National Park' 'Yosemite National Park'\n",
            " 'Bryce National Park' 'Yellowstone National Park']\n"
          ]
        }
      ]
    },
    {
      "cell_type": "markdown",
      "source": [
        "There were 4 parks in which there were observed species."
      ],
      "metadata": {
        "id": "gzWdDi48c6mr"
      }
    },
    {
      "cell_type": "markdown",
      "source": [
        "#### `observations.observations`"
      ],
      "metadata": {
        "id": "LLaZho0wiPbS"
      }
    },
    {
      "cell_type": "markdown",
      "source": [
        "Here the task is to check the total number of observations  "
      ],
      "metadata": {
        "id": "Sr_DLw97im5o"
      }
    },
    {
      "cell_type": "code",
      "source": [
        "print(f\"Total Number of observations: {observations.observations.sum()}\")"
      ],
      "metadata": {
        "colab": {
          "base_uri": "https://localhost:8080/"
        },
        "id": "g3SAqjS8kC0w",
        "outputId": "2c03e3e5-6366-4814-e997-5cc0ec6a5014"
      },
      "execution_count": 31,
      "outputs": [
        {
          "output_type": "stream",
          "name": "stdout",
          "text": [
            "Total Number of observations: 3314739\n"
          ]
        }
      ]
    },
    {
      "cell_type": "markdown",
      "source": [
        "There are 3314739 observations in total across 7 days"
      ],
      "metadata": {
        "id": "J8rF8vGUkKWi"
      }
    },
    {
      "cell_type": "markdown",
      "source": [
        "###  Multivariate Analysis"
      ],
      "metadata": {
        "id": "CrRQliAjkOwH"
      }
    },
    {
      "cell_type": "markdown",
      "source": [
        "One task here is to check the number of observations per park"
      ],
      "metadata": {
        "id": "dV3AVB9PkXvp"
      }
    },
    {
      "cell_type": "code",
      "source": [
        "print(f\"Number of Observations Per Park:{observations.groupby('park_name').observations.sum()}\")"
      ],
      "metadata": {
        "colab": {
          "base_uri": "https://localhost:8080/"
        },
        "id": "qCvQ7YtJlEXo",
        "outputId": "ef45aa7c-48ae-401e-dab4-f1c8b32985a5"
      },
      "execution_count": 34,
      "outputs": [
        {
          "output_type": "stream",
          "name": "stdout",
          "text": [
            "Number of Observations Per Park:park_name\n",
            "Bryce National Park                     576025\n",
            "Great Smoky Mountains National Park     431820\n",
            "Yellowstone National Park              1443562\n",
            "Yosemite National Park                  863332\n",
            "Name: observations, dtype: int64\n"
          ]
        }
      ]
    },
    {
      "cell_type": "code",
      "source": [
        "sns.barplot(data = observations, x = \"park_name\", y = \"observations\")\n",
        "plt.xticks(rotation = 45)"
      ],
      "metadata": {
        "colab": {
          "base_uri": "https://localhost:8080/",
          "height": 719
        },
        "id": "1MqRkLB7lkxQ",
        "outputId": "79be17aa-e936-4260-fd75-882d60d0c04d"
      },
      "execution_count": 40,
      "outputs": [
        {
          "output_type": "execute_result",
          "data": {
            "text/plain": [
              "(array([0, 1, 2, 3]),\n",
              " [Text(0, 0, 'Great Smoky Mountains National Park'),\n",
              "  Text(1, 0, 'Yosemite National Park'),\n",
              "  Text(2, 0, 'Bryce National Park'),\n",
              "  Text(3, 0, 'Yellowstone National Park')])"
            ]
          },
          "metadata": {},
          "execution_count": 40
        },
        {
          "output_type": "display_data",
          "data": {
            "text/plain": [
              "<Figure size 640x480 with 1 Axes>"
            ],
            "image/png": "[encoded data removed]"
          },
          "metadata": {}
        }
      ]
    },
    {
      "cell_type": "markdown",
      "source": [
        "# Further Analysis"
      ],
      "metadata": {
        "id": "apE7OsIgnzam"
      }
    },
    {
      "cell_type": "markdown",
      "source": [
        "In this sector, more analysis is done in order to see new observations in the data. "
      ],
      "metadata": {
        "id": "pH9Iajv3oV2B"
      }
    },
    {
      "cell_type": "markdown",
      "source": [
        "## Are Certain Species more likely to be endangered?"
      ],
      "metadata": {
        "id": "5nbh4JRCois2"
      }
    },
    {
      "cell_type": "markdown",
      "source": [
        "Further analysis is done in order to establish whether certain species are more endangered compared to others.\n",
        "First, a new column is created in order to check whether the species in question is protected(has a `conservation_status` or not)"
      ],
      "metadata": {
        "id": "8PZCefC3oqZi"
      }
    },
    {
      "cell_type": "code",
      "source": [
        "species_info[\"is_protected\"] = species_info.conservation_status != \"Not Currently In Danger\""
      ],
      "metadata": {
        "id": "Qax1pDnspSNl"
      },
      "execution_count": 41,
      "outputs": []
    },
    {
      "cell_type": "markdown",
      "source": [
        "Next, by grouping the according to categories and their protected status, we can see how endangered each one is"
      ],
      "metadata": {
        "id": "OQVT6xnupoN2"
      }
    },
    {
      "cell_type": "code",
      "source": [
        "category_counts = species_info.groupby([\"category\", \"is_protected\"]).scientific_name.nunique()\\\n",
        "                  .reset_index()\\\n",
        "                  .pivot(\n",
        "                      columns = \"is_protected\",\n",
        "                      index = \"category\",\n",
        "                      values = \"scientific_name\"\n",
        "                  ).reset_index()\n",
        "category_counts.columns = [\"categories\", \"not_protected\", \"protected\"]\n",
        "category_counts"
      ],
      "metadata": {
        "colab": {
          "base_uri": "https://localhost:8080/",
          "height": 269
        },
        "id": "4LoDllw4qA8M",
        "outputId": "80b5cc2c-0108-4942-c009-3ce5f7abb852"
      },
      "execution_count": 45,
      "outputs": [
        {
          "output_type": "execute_result",
          "data": {
            "text/plain": [
              "          categories  not_protected  protected\n",
              "0          Amphibian             72          7\n",
              "1               Bird            413         75\n",
              "2               Fish            115         11\n",
              "3             Mammal            146         30\n",
              "4  Nonvascular Plant            328          5\n",
              "5            Reptile             73          5\n",
              "6     Vascular Plant           4216         46"
            ],
            "text/html": [
              "\n",
              "  <div id=\"df-0e9dd391-6e0d-4bb8-98ab-9c9e45b7e2b0\">\n",
              "    <div class=\"colab-df-container\">\n",
              "      <div>\n",
              "<style scoped>\n",
              "    .dataframe tbody tr th:only-of-type {\n",
              "        vertical-align: middle;\n",
              "    }\n",
              "\n",
              "    .dataframe tbody tr th {\n",
              "        vertical-align: top;\n",
              "    }\n",
              "\n",
              "    .dataframe thead th {\n",
              "        text-align: right;\n",
              "    }\n",
              "</style>\n",
              "<table border=\"1\" class=\"dataframe\">\n",
              "  <thead>\n",
              "    <tr style=\"text-align: right;\">\n",
              "      <th></th>\n",
              "      <th>categories</th>\n",
              "      <th>not_protected</th>\n",
              "      <th>protected</th>\n",
              "    </tr>\n",
              "  </thead>\n",
              "  <tbody>\n",
              "    <tr>\n",
              "      <th>0</th>\n",
              "      <td>Amphibian</td>\n",
              "      <td>72</td>\n",
              "      <td>7</td>\n",
              "    </tr>\n",
              "    <tr>\n",
              "      <th>1</th>\n",
              "      <td>Bird</td>\n",
              "      <td>413</td>\n",
              "      <td>75</td>\n",
              "    </tr>\n",
              "    <tr>\n",
              "      <th>2</th>\n",
              "      <td>Fish</td>\n",
              "      <td>115</td>\n",
              "      <td>11</td>\n",
              "    </tr>\n",
              "    <tr>\n",
              "      <th>3</th>\n",
              "      <td>Mammal</td>\n",
              "      <td>146</td>\n",
              "      <td>30</td>\n",
              "    </tr>\n",
              "    <tr>\n",
              "      <th>4</th>\n",
              "      <td>Nonvascular Plant</td>\n",
              "      <td>328</td>\n",
              "      <td>5</td>\n",
              "    </tr>\n",
              "    <tr>\n",
              "      <th>5</th>\n",
              "      <td>Reptile</td>\n",
              "      <td>73</td>\n",
              "      <td>5</td>\n",
              "    </tr>\n",
              "    <tr>\n",
              "      <th>6</th>\n",
              "      <td>Vascular Plant</td>\n",
              "      <td>4216</td>\n",
              "      <td>46</td>\n",
              "    </tr>\n",
              "  </tbody>\n",
              "</table>\n",
              "</div>\n",
              "      <button class=\"colab-df-convert\" onclick=\"convertToInteractive('df-0e9dd391-6e0d-4bb8-98ab-9c9e45b7e2b0')\"\n",
              "              title=\"Convert this dataframe to an interactive table.\"\n",
              "              style=\"display:none;\">\n",
              "        \n",
              "  <svg xmlns=\"http://www.w3.org/2000/svg\" height=\"24px\"viewBox=\"0 0 24 24\"\n",
              "       width=\"24px\">\n",
              "    <path d=\"M0 0h24v24H0V0z\" fill=\"none\"/>\n",
              "    <path d=\"M18.56 5.44l.94 2.06.94-2.06 2.06-.94-2.06-.94-.94-2.06-.94 2.06-2.06.94zm-11 1L8.5 8.5l.94-2.06 2.06-.94-2.06-.94L8.5 2.5l-.94 2.06-2.06.94zm10 10l.94 2.06.94-2.06 2.06-.94-2.06-.94-.94-2.06-.94 2.06-2.06.94z\"/><path d=\"M17.41 7.96l-1.37-1.37c-.4-.4-.92-.59-1.43-.59-.52 0-1.04.2-1.43.59L10.3 9.45l-7.72 7.72c-.78.78-.78 2.05 0 2.83L4 21.41c.39.39.9.59 1.41.59.51 0 1.02-.2 1.41-.59l7.78-7.78 2.81-2.81c.8-.78.8-2.07 0-2.86zM5.41 20L4 18.59l7.72-7.72 1.47 1.35L5.41 20z\"/>\n",
              "  </svg>\n",
              "      </button>\n",
              "      \n",
              "  <style>\n",
              "    .colab-df-container {\n",
              "      display:flex;\n",
              "      flex-wrap:wrap;\n",
              "      gap: 12px;\n",
              "    }\n",
              "\n",
              "    .colab-df-convert {\n",
              "      background-color: #E8F0FE;\n",
              "      border: none;\n",
              "      border-radius: 50%;\n",
              "      cursor: pointer;\n",
              "      display: none;\n",
              "      fill: #1967D2;\n",
              "      height: 32px;\n",
              "      padding: 0 0 0 0;\n",
              "      width: 32px;\n",
              "    }\n",
              "\n",
              "    .colab-df-convert:hover {\n",
              "      background-color: #E2EBFA;\n",
              "      box-shadow: 0px 1px 2px rgba(60, 64, 67, 0.3), 0px 1px 3px 1px rgba(60, 64, 67, 0.15);\n",
              "      fill: #174EA6;\n",
              "    }\n",
              "\n",
              "    [theme=dark] .colab-df-convert {\n",
              "      background-color: #3B4455;\n",
              "      fill: #D2E3FC;\n",
              "    }\n",
              "\n",
              "    [theme=dark] .colab-df-convert:hover {\n",
              "      background-color: #434B5C;\n",
              "      box-shadow: 0px 1px 3px 1px rgba(0, 0, 0, 0.15);\n",
              "      filter: drop-shadow(0px 1px 2px rgba(0, 0, 0, 0.3));\n",
              "      fill: #FFFFFF;\n",
              "    }\n",
              "  </style>\n",
              "\n",
              "      <script>\n",
              "        const buttonEl =\n",
              "          document.querySelector('#df-0e9dd391-6e0d-4bb8-98ab-9c9e45b7e2b0 button.colab-df-convert');\n",
              "        buttonEl.style.display =\n",
              "          google.colab.kernel.accessAllowed ? 'block' : 'none';\n",
              "\n",
              "        async function convertToInteractive(key) {\n",
              "          const element = document.querySelector('#df-0e9dd391-6e0d-4bb8-98ab-9c9e45b7e2b0');\n",
              "          const dataTable =\n",
              "            await google.colab.kernel.invokeFunction('convertToInteractive',\n",
              "                                                     [key], {});\n",
              "          if (!dataTable) return;\n",
              "\n",
              "          const docLinkHtml = 'Like what you see? Visit the ' +\n",
              "            '<a target=\"_blank\" href=https://colab.research.google.com/notebooks/data_table.ipynb>data table notebook</a>'\n",
              "            + ' to learn more about interactive tables.';\n",
              "          element.innerHTML = '';\n",
              "          dataTable['output_type'] = 'display_data';\n",
              "          await google.colab.output.renderOutput(dataTable, element);\n",
              "          const docLink = document.createElement('div');\n",
              "          docLink.innerHTML = docLinkHtml;\n",
              "          element.appendChild(docLink);\n",
              "        }\n",
              "      </script>\n",
              "    </div>\n",
              "  </div>\n",
              "  "
            ]
          },
          "metadata": {},
          "execution_count": 45
        }
      ]
    },
    {
      "cell_type": "markdown",
      "source": [
        "Here It can be seen that Vascular plants, birds and mammals have a higher number of species that are protected. However absolute numbers don't tell the difference hence it would be better to use percentage proportions"
      ],
      "metadata": {
        "id": "K3q7HRS3rFbP"
      }
    },
    {
      "cell_type": "code",
      "source": [
        "category_counts[\"percentage_protected\"] = category_counts.protected * 100 \\\n",
        "                                          / (category_counts.protected + category_counts.not_protected)\n",
        "category_counts"
      ],
      "metadata": {
        "colab": {
          "base_uri": "https://localhost:8080/",
          "height": 269
        },
        "id": "CEjFqvgzrkYO",
        "outputId": "05be8796-9ea3-4201-ed84-637ce6b71906"
      },
      "execution_count": 46,
      "outputs": [
        {
          "output_type": "execute_result",
          "data": {
            "text/plain": [
              "          categories  not_protected  protected  percentage_protected\n",
              "0          Amphibian             72          7              8.860759\n",
              "1               Bird            413         75             15.368852\n",
              "2               Fish            115         11              8.730159\n",
              "3             Mammal            146         30             17.045455\n",
              "4  Nonvascular Plant            328          5              1.501502\n",
              "5            Reptile             73          5              6.410256\n",
              "6     Vascular Plant           4216         46              1.079305"
            ],
            "text/html": [
              "\n",
              "  <div id=\"df-18409591-1eaf-4c76-8649-6a17e39a966a\">\n",
              "    <div class=\"colab-df-container\">\n",
              "      <div>\n",
              "<style scoped>\n",
              "    .dataframe tbody tr th:only-of-type {\n",
              "        vertical-align: middle;\n",
              "    }\n",
              "\n",
              "    .dataframe tbody tr th {\n",
              "        vertical-align: top;\n",
              "    }\n",
              "\n",
              "    .dataframe thead th {\n",
              "        text-align: right;\n",
              "    }\n",
              "</style>\n",
              "<table border=\"1\" class=\"dataframe\">\n",
              "  <thead>\n",
              "    <tr style=\"text-align: right;\">\n",
              "      <th></th>\n",
              "      <th>categories</th>\n",
              "      <th>not_protected</th>\n",
              "      <th>protected</th>\n",
              "      <th>percentage_protected</th>\n",
              "    </tr>\n",
              "  </thead>\n",
              "  <tbody>\n",
              "    <tr>\n",
              "      <th>0</th>\n",
              "      <td>Amphibian</td>\n",
              "      <td>72</td>\n",
              "      <td>7</td>\n",
              "      <td>8.860759</td>\n",
              "    </tr>\n",
              "    <tr>\n",
              "      <th>1</th>\n",
              "      <td>Bird</td>\n",
              "      <td>413</td>\n",
              "      <td>75</td>\n",
              "      <td>15.368852</td>\n",
              "    </tr>\n",
              "    <tr>\n",
              "      <th>2</th>\n",
              "      <td>Fish</td>\n",
              "      <td>115</td>\n",
              "      <td>11</td>\n",
              "      <td>8.730159</td>\n",
              "    </tr>\n",
              "    <tr>\n",
              "      <th>3</th>\n",
              "      <td>Mammal</td>\n",
              "      <td>146</td>\n",
              "      <td>30</td>\n",
              "      <td>17.045455</td>\n",
              "    </tr>\n",
              "    <tr>\n",
              "      <th>4</th>\n",
              "      <td>Nonvascular Plant</td>\n",
              "      <td>328</td>\n",
              "      <td>5</td>\n",
              "      <td>1.501502</td>\n",
              "    </tr>\n",
              "    <tr>\n",
              "      <th>5</th>\n",
              "      <td>Reptile</td>\n",
              "      <td>73</td>\n",
              "      <td>5</td>\n",
              "      <td>6.410256</td>\n",
              "    </tr>\n",
              "    <tr>\n",
              "      <th>6</th>\n",
              "      <td>Vascular Plant</td>\n",
              "      <td>4216</td>\n",
              "      <td>46</td>\n",
              "      <td>1.079305</td>\n",
              "    </tr>\n",
              "  </tbody>\n",
              "</table>\n",
              "</div>\n",
              "      <button class=\"colab-df-convert\" onclick=\"convertToInteractive('df-18409591-1eaf-4c76-8649-6a17e39a966a')\"\n",
              "              title=\"Convert this dataframe to an interactive table.\"\n",
              "              style=\"display:none;\">\n",
              "        \n",
              "  <svg xmlns=\"http://www.w3.org/2000/svg\" height=\"24px\"viewBox=\"0 0 24 24\"\n",
              "       width=\"24px\">\n",
              "    <path d=\"M0 0h24v24H0V0z\" fill=\"none\"/>\n",
              "    <path d=\"M18.56 5.44l.94 2.06.94-2.06 2.06-.94-2.06-.94-.94-2.06-.94 2.06-2.06.94zm-11 1L8.5 8.5l.94-2.06 2.06-.94-2.06-.94L8.5 2.5l-.94 2.06-2.06.94zm10 10l.94 2.06.94-2.06 2.06-.94-2.06-.94-.94-2.06-.94 2.06-2.06.94z\"/><path d=\"M17.41 7.96l-1.37-1.37c-.4-.4-.92-.59-1.43-.59-.52 0-1.04.2-1.43.59L10.3 9.45l-7.72 7.72c-.78.78-.78 2.05 0 2.83L4 21.41c.39.39.9.59 1.41.59.51 0 1.02-.2 1.41-.59l7.78-7.78 2.81-2.81c.8-.78.8-2.07 0-2.86zM5.41 20L4 18.59l7.72-7.72 1.47 1.35L5.41 20z\"/>\n",
              "  </svg>\n",
              "      </button>\n",
              "      \n",
              "  <style>\n",
              "    .colab-df-container {\n",
              "      display:flex;\n",
              "      flex-wrap:wrap;\n",
              "      gap: 12px;\n",
              "    }\n",
              "\n",
              "    .colab-df-convert {\n",
              "      background-color: #E8F0FE;\n",
              "      border: none;\n",
              "      border-radius: 50%;\n",
              "      cursor: pointer;\n",
              "      display: none;\n",
              "      fill: #1967D2;\n",
              "      height: 32px;\n",
              "      padding: 0 0 0 0;\n",
              "      width: 32px;\n",
              "    }\n",
              "\n",
              "    .colab-df-convert:hover {\n",
              "      background-color: #E2EBFA;\n",
              "      box-shadow: 0px 1px 2px rgba(60, 64, 67, 0.3), 0px 1px 3px 1px rgba(60, 64, 67, 0.15);\n",
              "      fill: #174EA6;\n",
              "    }\n",
              "\n",
              "    [theme=dark] .colab-df-convert {\n",
              "      background-color: #3B4455;\n",
              "      fill: #D2E3FC;\n",
              "    }\n",
              "\n",
              "    [theme=dark] .colab-df-convert:hover {\n",
              "      background-color: #434B5C;\n",
              "      box-shadow: 0px 1px 3px 1px rgba(0, 0, 0, 0.15);\n",
              "      filter: drop-shadow(0px 1px 2px rgba(0, 0, 0, 0.3));\n",
              "      fill: #FFFFFF;\n",
              "    }\n",
              "  </style>\n",
              "\n",
              "      <script>\n",
              "        const buttonEl =\n",
              "          document.querySelector('#df-18409591-1eaf-4c76-8649-6a17e39a966a button.colab-df-convert');\n",
              "        buttonEl.style.display =\n",
              "          google.colab.kernel.accessAllowed ? 'block' : 'none';\n",
              "\n",
              "        async function convertToInteractive(key) {\n",
              "          const element = document.querySelector('#df-18409591-1eaf-4c76-8649-6a17e39a966a');\n",
              "          const dataTable =\n",
              "            await google.colab.kernel.invokeFunction('convertToInteractive',\n",
              "                                                     [key], {});\n",
              "          if (!dataTable) return;\n",
              "\n",
              "          const docLinkHtml = 'Like what you see? Visit the ' +\n",
              "            '<a target=\"_blank\" href=https://colab.research.google.com/notebooks/data_table.ipynb>data table notebook</a>'\n",
              "            + ' to learn more about interactive tables.';\n",
              "          element.innerHTML = '';\n",
              "          dataTable['output_type'] = 'display_data';\n",
              "          await google.colab.output.renderOutput(dataTable, element);\n",
              "          const docLink = document.createElement('div');\n",
              "          docLink.innerHTML = docLinkHtml;\n",
              "          element.appendChild(docLink);\n",
              "        }\n",
              "      </script>\n",
              "    </div>\n",
              "  </div>\n",
              "  "
            ]
          },
          "metadata": {},
          "execution_count": 46
        }
      ]
    },
    {
      "cell_type": "markdown",
      "source": [
        "Using percentage proportions, it can be seen that mammals and birds have a higher proportion of their species being protected at 17% and 15% respectively"
      ],
      "metadata": {
        "id": "NvMqsoK5sFcD"
      }
    },
    {
      "cell_type": "markdown",
      "source": [
        "### Statistical Significance"
      ],
      "metadata": {
        "id": "5WfelgY_z_q_"
      }
    },
    {
      "cell_type": "markdown",
      "source": [
        "This section will run some chi-squared tests to see if different species have statistically significant differences in conservation status rates. In order to run a chi squared test, a contingency table will need to be created. The contingency table should look like this:\n",
        "\n",
        "||protected|not protected|\n",
        "|-|-|-|\n",
        "|Mammal|30|146|\n",
        "|Bird|75|413|"
      ],
      "metadata": {
        "id": "YIPOFRNe0DWd"
      }
    },
    {
      "cell_type": "code",
      "source": [
        "contingency1 = [[30, 146],\n",
        "              [75, 413]]\n",
        "\n",
        "chi2, pval, dof, expected = chi2_contingency(contingency1)\n",
        "print(chi2)\n",
        "print(pval)"
      ],
      "metadata": {
        "colab": {
          "base_uri": "https://localhost:8080/"
        },
        "id": "jUNZrJVr0Vnl",
        "outputId": "df8350a1-7165-4155-9760-f37de4571009"
      },
      "execution_count": 50,
      "outputs": [
        {
          "output_type": "stream",
          "name": "stdout",
          "text": [
            "0.1617014831654557\n",
            "0.6875948096661336\n"
          ]
        }
      ]
    },
    {
      "cell_type": "markdown",
      "source": [
        "The Chi-value is low and the p-value is above the significant threshhold of 0.05 which means that there is no significant relationship between mammals and birds. Thus the data is independent"
      ],
      "metadata": {
        "id": "Q9boxxX51E-C"
      }
    },
    {
      "cell_type": "markdown",
      "source": [
        "Next statistical test is done between mammals and reptiles"
      ],
      "metadata": {
        "id": "t6KEbWVO1n8s"
      }
    },
    {
      "cell_type": "code",
      "source": [
        "contingency2 = [[30, 146],\n",
        "               [5, 73]]\n",
        "chi2, pval, dof, expected = chi2_contingency(contingency2)\n",
        "print(chi2)\n",
        "print(pval)"
      ],
      "metadata": {
        "colab": {
          "base_uri": "https://localhost:8080/"
        },
        "id": "UxCu3URS1WqB",
        "outputId": "62eadaf2-d8ec-4511-f61c-c59fbd7fc413"
      },
      "execution_count": 52,
      "outputs": [
        {
          "output_type": "stream",
          "name": "stdout",
          "text": [
            "4.289183096203645\n",
            "0.03835559022969898\n"
          ]
        }
      ]
    },
    {
      "cell_type": "markdown",
      "source": [
        "Here the chi-value is relatively large compared to the size of the contingency table suggesting an association. The p-value is below the significant threshhold of 0.05 meaning that there seems to be an association between mammals and reptiles"
      ],
      "metadata": {
        "id": "iMeQyG0b1t0n"
      }
    }
  ],
  "metadata": {
    "kernelspec": {
      "display_name": "Python 3",
      "language": "python",
      "name": "python3"
    },
    "language_info": {
      "codemirror_mode": {
        "name": "ipython",
        "version": 3
      },
      "file_extension": ".py",
      "mimetype": "text/x-python",
      "name": "python",
      "nbconvert_exporter": "python",
      "pygments_lexer": "ipython3",
      "version": "3.7.6"
    },
    "colab": {
      "provenance": [],
      "toc_visible": true,
      "include_colab_link": true
    }
  },
  "nbformat": 4,
  "nbformat_minor": 0
}